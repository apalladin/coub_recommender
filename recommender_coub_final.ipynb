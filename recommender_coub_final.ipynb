{
 "cells": [
  {
   "cell_type": "markdown",
   "metadata": {},
   "source": [
    "# Data loading"
   ]
  },
  {
   "cell_type": "code",
   "execution_count": 1,
   "metadata": {
    "ExecuteTime": {
     "end_time": "2020-10-29T20:02:31.118019Z",
     "start_time": "2020-10-29T20:02:29.660984Z"
    }
   },
   "outputs": [],
   "source": [
    "import pandas as pd\n",
    "import numpy as np\n",
    "import matplotlib.pyplot as plt\n",
    "import seaborn as sns\n",
    "%matplotlib inline\n",
    "pd.set_option('display.max_rows', 500)"
   ]
  },
  {
   "cell_type": "code",
   "execution_count": 2,
   "metadata": {
    "ExecuteTime": {
     "end_time": "2020-10-29T20:02:31.122033Z",
     "start_time": "2020-10-29T20:02:31.119673Z"
    }
   },
   "outputs": [],
   "source": [
    "# !pip install coub-api"
   ]
  },
  {
   "cell_type": "code",
   "execution_count": 3,
   "metadata": {
    "ExecuteTime": {
     "end_time": "2020-10-29T20:02:31.282748Z",
     "start_time": "2020-10-29T20:02:31.124161Z"
    }
   },
   "outputs": [],
   "source": [
    "import os\n",
    "from coub_api import CoubApi\n",
    "from coub_api.schemas.constants import Period\n",
    "from coub_api.schemas.constants import Category\n",
    "\n",
    "\n",
    "api = CoubApi()\n"
   ]
  },
  {
   "cell_type": "code",
   "execution_count": 4,
   "metadata": {
    "ExecuteTime": {
     "end_time": "2020-10-29T20:02:31.300879Z",
     "start_time": "2020-10-29T20:02:31.284767Z"
    },
    "scrolled": true
   },
   "outputs": [],
   "source": [
    "\n",
    "def get_category_data(current_page=1, max_page=0, category=Category.ANIMALS):\n",
    "    \"\"\"\n",
    "    Parses the category timeline data from the Coub website via API app and stores them into a dataframe.\n",
    "    Arguments:\n",
    "        :current_page - starting/current page. Default - 1;\n",
    "        :max_page - maximum page to load set by user. Default - 0 - loads all pages in the category;\n",
    "        :category - view category. Read coub documentation for details.\n",
    "    Returns:\n",
    "        :data - resulting dataframe with coub metadata of interest\n",
    "    \"\"\"\n",
    "    \n",
    "    if max_page <= 0:\n",
    "        max_page = api.timeline.community(category=category, per_page=25).total_pages\n",
    "    \n",
    "    data = []\n",
    "    \n",
    "    while current_page <= max_page:\n",
    "        try:\n",
    "            response = api.timeline.community(category=category, page=current_page, per_page=25)\n",
    "            if current_page % 50 == 0:\n",
    "                print(f\"processing page {current_page} of {max_page}\")\n",
    "            for coub in response.coubs:\n",
    "                data.append([\n",
    "                            coub.channel.id,\n",
    "                            coub.channel.title,\n",
    "                            coub.channel.followers_count,\n",
    "                            coub.channel.following_count,\n",
    "                            coub.id,\n",
    "                            coub.title,\n",
    "                            coub.external_download.service_name if coub.external_download else 'local',\n",
    "                            coub.created_at, \n",
    "                            coub.duration,\n",
    "                            coub.views_count,\n",
    "                            coub.recoubs_count,\n",
    "                            coub.likes_count,\n",
    "                            coub.dislikes_count,\n",
    "                            coub.age_restricted,\n",
    "                            coub.banned,\n",
    "                            [i.title for i in coub.tags],\n",
    "                            [i.title for i in coub.categories][0],\n",
    "                            ''.join([i for i in coub.file_versions.html5.video.high.url]),\n",
    "                            ]\n",
    "                           )\n",
    "            current_page += 1\n",
    "            \n",
    "        except:\n",
    "            print(f'page:{current_page} - error making a request...')\n",
    "            current_page += 1\n",
    "            pass\n",
    "    \n",
    "    columns = ['channel_id', 'channel_title', 'channel_followers_count', 'channel_following_count',\n",
    "               'id', 'title',\n",
    "               'external_download', \n",
    "               'created_at', 'duration', 'views_count', \n",
    "               'recoubs_count','likes_count','dislikes_count', 'age_restricted', \n",
    "               'banned', 'tags', \n",
    "               'category_title','url_big']\n",
    "    data = pd.DataFrame(data).apply(pd.Series)\n",
    "    data.columns = columns\n",
    "    return data\n",
    "   \n",
    "    \n",
    "    \n",
    "def _like_type(coub_id, data):\n",
    "    current_like_page=1\n",
    "    max_like_page = api.coub_metadata.likes_list(coub_id).total_pages\n",
    "\n",
    "    while current_like_page <= max_like_page:\n",
    "        try:\n",
    "            response = api.coub_metadata.likes_list(coub_id,page=current_like_page)\n",
    "\n",
    "            for user in response.channels:\n",
    "                data.append([\n",
    "                            coub_id,\n",
    "                            user.id,\n",
    "                            user.title,\n",
    "                            user.followers_count,\n",
    "                            user.following_count,\n",
    "                            'like'\n",
    "                            ]\n",
    "                           )\n",
    "            current_like_page += 1\n",
    "\n",
    "        except:\n",
    "            print(f'like page:{current_like_page} - error making a request...')\n",
    "            current_like_page += 1\n",
    "            pass\n",
    "\n",
    "\n",
    "\n",
    "def _repost_type(coub_id, data):\n",
    "    current_repost_page=1\n",
    "    max_repost_page = api.coub_metadata.recoubs_list(coub_id).total_pages\n",
    "    while current_repost_page <= max_repost_page:\n",
    "        try:\n",
    "            response = api.coub_metadata.recoubs_list(coub_id, page=current_repost_page)\n",
    "            for user in response.channels:\n",
    "                data.append([\n",
    "                            coub_id,\n",
    "                            user.id,\n",
    "                            user.title,\n",
    "                            user.followers_count,\n",
    "                            user.following_count,\n",
    "                            'repost'\n",
    "                            ]\n",
    "                           )\n",
    "            current_repost_page += 1\n",
    "\n",
    "        except:\n",
    "            print(f'repost page:{current_repost_page} - error making a request...')\n",
    "            current_repost_page += 1\n",
    "            pass\n",
    "\n",
    "\n",
    "def _compose_data(coub_id, data, reaction_type='all'):\n",
    "    \n",
    "    data = []\n",
    "    if reaction_type == 'like':\n",
    "        _like_type(coub_id, data)\n",
    "    elif reaction_type == 'repost':\n",
    "        _repost_type(coub_id, data)\n",
    "    elif reaction_type == 'all':\n",
    "        _like_type(coub_id, data)\n",
    "        _repost_type(coub_id, data)\n",
    "    \n",
    "    columns = ['coub_id','user_id', 'user_name', 'user_followers_count', 'user_following_count','reaction_type']\n",
    "    data = pd.DataFrame(data).apply(pd.Series)\n",
    "    data.columns = columns\n",
    "    \n",
    "    return data\n",
    "\n",
    "\n",
    "def get_coub_reaction_list(coub_ids, reaction_type='all'):\n",
    "    \"\"\"\n",
    "    Parses the coub like_list and repost_list metadata from the Coub website via API app and stores them into a dataframe.\n",
    "    Arguments:\n",
    "        :coub_ids - list of coub IDs;\n",
    "        :reaction_type - type of reactions to parse: ['like','repost','all']\n",
    "    Returns:\n",
    "        :data - resulting dataframe with coub reaction list metadata\n",
    "    \"\"\"\n",
    "    \n",
    "    assert reaction_type in ['like','repost','all'], \"Wrong reaction_type!\"\n",
    "    \n",
    "    reaction_list_composed = pd.DataFrame()\n",
    "    \n",
    "    for coub_id in coub_ids:\n",
    "        data = []\n",
    "        data_df = _compose_data(coub_id, data, reaction_type=reaction_type)\n",
    "        reaction_list_composed = pd.concat([reaction_list_composed, data_df])\n",
    "    \n",
    "    return reaction_list_composed\n",
    "\n",
    "\n",
    "\n"
   ]
  },
  {
   "cell_type": "code",
   "execution_count": 5,
   "metadata": {
    "ExecuteTime": {
     "end_time": "2020-10-29T20:02:32.017910Z",
     "start_time": "2020-10-29T20:02:31.302324Z"
    },
    "scrolled": true
   },
   "outputs": [
    {
     "name": "stdout",
     "output_type": "stream",
     "text": [
      "Downloading emoji data ...\n",
      "... OK (Got response in 0.33 seconds)\n",
      "Writing emoji data to /Users/apall/.demoji/codes.json ...\n",
      "... OK\n"
     ]
    }
   ],
   "source": [
    "# !pip install demoji\n",
    "import demoji\n",
    "demoji.download_codes() "
   ]
  },
  {
   "cell_type": "markdown",
   "metadata": {
    "ExecuteTime": {
     "end_time": "2020-10-23T22:49:18.605508Z",
     "start_time": "2020-10-23T22:49:18.603325Z"
    }
   },
   "source": [
    "## Load categories data"
   ]
  },
  {
   "cell_type": "code",
   "execution_count": 7,
   "metadata": {
    "ExecuteTime": {
     "end_time": "2020-10-29T20:02:32.969149Z",
     "start_time": "2020-10-29T20:02:32.918263Z"
    },
    "scrolled": true
   },
   "outputs": [
    {
     "name": "stdout",
     "output_type": "stream",
     "text": [
      "data loaded from disk.\n"
     ]
    }
   ],
   "source": [
    "import pickle\n",
    "import os\n",
    "def load_data(func, path='input_data',file_name='category_data.pkl', overwrite=False, \n",
    "              mp_func=None, file_list=None):\n",
    "    \"\"\"\n",
    "    Checks if data is on disk; if not - requests data and stores into a specified location.\n",
    "    Arguments:\n",
    "        :path - (str) - save directory path;\n",
    "        :file_name - (str) - file name of the pickle dataframe;\n",
    "        :overwrite - (bool) - whether to overwrite existing data on disk. Default is False.\n",
    "    Returns:\n",
    "        :data - resulting dataframe.\n",
    "    \"\"\"\n",
    "    file_path = os.path.join(path,file_name)\n",
    "    if not os.path.exists(file_path) or overwrite == True:\n",
    "        if not os.path.exists(path):\n",
    "            os.makedirs(path)\n",
    "        print('no data, sending requests ...')\n",
    "        \n",
    "        if mp_func:\n",
    "            assert file_list is not None, \"Provide file_list!\"\n",
    "            data = func(mp_func, file_list)\n",
    "        else:\n",
    "            data = func()\n",
    "        \n",
    "        data.to_pickle(file_path)\n",
    "    else:\n",
    "        print('data loaded from disk.')\n",
    "        data = pd.read_pickle(file_path)\n",
    "    \n",
    "    return data\n",
    "\n",
    "\n",
    "category_data = load_data(get_category_data, \n",
    "                          path='input_data',\n",
    "                          file_name='category_data.pkl', \n",
    "                          overwrite=False)"
   ]
  },
  {
   "cell_type": "code",
   "execution_count": 8,
   "metadata": {
    "ExecuteTime": {
     "end_time": "2020-10-29T20:02:32.985868Z",
     "start_time": "2020-10-29T20:02:32.973430Z"
    },
    "scrolled": true
   },
   "outputs": [
    {
     "name": "stdout",
     "output_type": "stream",
     "text": [
      "<class 'pandas.core.frame.DataFrame'>\n",
      "RangeIndex: 3354 entries, 0 to 3353\n",
      "Data columns (total 18 columns):\n",
      " #   Column                   Non-Null Count  Dtype              \n",
      "---  ------                   --------------  -----              \n",
      " 0   channel_id               3354 non-null   int64              \n",
      " 1   channel_title            3354 non-null   object             \n",
      " 2   channel_followers_count  3354 non-null   int64              \n",
      " 3   channel_following_count  3354 non-null   int64              \n",
      " 4   id                       3354 non-null   int64              \n",
      " 5   title                    3354 non-null   object             \n",
      " 6   external_download        3354 non-null   object             \n",
      " 7   created_at               3354 non-null   datetime64[ns, UTC]\n",
      " 8   duration                 3354 non-null   float64            \n",
      " 9   views_count              3354 non-null   int64              \n",
      " 10  recoubs_count            3354 non-null   int64              \n",
      " 11  likes_count              3354 non-null   int64              \n",
      " 12  dislikes_count           3354 non-null   int64              \n",
      " 13  age_restricted           3354 non-null   bool               \n",
      " 14  banned                   3354 non-null   bool               \n",
      " 15  tags                     3354 non-null   object             \n",
      " 16  category_title           3354 non-null   object             \n",
      " 17  url_big                  3354 non-null   object             \n",
      "dtypes: bool(2), datetime64[ns, UTC](1), float64(1), int64(8), object(6)\n",
      "memory usage: 425.9+ KB\n"
     ]
    }
   ],
   "source": [
    "category_data.info()"
   ]
  },
  {
   "cell_type": "code",
   "execution_count": 9,
   "metadata": {
    "ExecuteTime": {
     "end_time": "2020-10-29T20:02:32.994675Z",
     "start_time": "2020-10-29T20:02:32.989189Z"
    },
    "scrolled": true
   },
   "outputs": [
    {
     "data": {
      "text/plain": [
       "array(['https://coubsecure-s.akamaihd.net/get/b186/p/coub/simple/cw_file/1bb62fc447f/acdc6fe0b002ac4064342/muted_mp4_big_size_1603552051_muted_big.mp4',\n",
       "       'https://coubsecure-s.akamaihd.net/get/b28/p/coub/simple/cw_file/51ac6cfdfbc/5e06dab1dca3f9a6de008/muted_mp4_big_size_1603659000_muted_big.mp4',\n",
       "       'https://coubsecure-s.akamaihd.net/get/b155/p/coub/simple/cw_file/89ced6f6dd2/830327016ae1881077417/muted_mp4_big_size_1592858799_muted_big.mp4',\n",
       "       'https://coubsecure-s.akamaihd.net/get/b56/p/coub/simple/cw_file/428dbf45f59/0875b7d6ce822fdb7d3b6/muted_mp4_big_size_1603582541_muted_big.mp4',\n",
       "       'https://coubsecure-s.akamaihd.net/get/b85/p/coub/simple/cw_file/2de0d66002f/d12cbde28c3b0f4336645/muted_mp4_big_size_1603708344_muted_big.mp4'],\n",
       "      dtype=object)"
      ]
     },
     "execution_count": 9,
     "metadata": {},
     "output_type": "execute_result"
    }
   ],
   "source": [
    "category_data.head(5).url_big.values"
   ]
  },
  {
   "cell_type": "markdown",
   "metadata": {},
   "source": [
    "## Basic EDA & Preprocessing of categories data   "
   ]
  },
  {
   "cell_type": "code",
   "execution_count": 10,
   "metadata": {
    "ExecuteTime": {
     "end_time": "2020-10-29T20:02:33.423062Z",
     "start_time": "2020-10-29T20:02:32.996294Z"
    }
   },
   "outputs": [],
   "source": [
    "import unicodedata as ud\n",
    "from nltk.corpus import stopwords\n",
    "import re\n",
    "\n",
    "\n",
    "\n",
    "def _is_latin(uchr):\n",
    "    \"\"\"\n",
    "    Returns latin letters only;\n",
    "    Arguments:\n",
    "        :uchr - input letter string\n",
    "    Returns:\n",
    "        :latin_letters - string with latin letters only\n",
    "        \n",
    "    \"\"\"\n",
    "    latin_letters= {}\n",
    "    try: return latin_letters[uchr]\n",
    "    except KeyError:\n",
    "         return latin_letters.setdefault(uchr, 'LATIN' in ud.name(uchr))\n",
    "\n",
    "        \n",
    "def _only_roman_chars(unistr):\n",
    "    \"\"\"\n",
    "    Checks if all letters in a word are latin only. \n",
    "    \"\"\"\n",
    "    return all(_is_latin(uchr)\n",
    "           for uchr in unistr\n",
    "           if uchr.isalpha()) # isalpha suggested by John Machin\n",
    "\n",
    "\n",
    "def _roman_tags(tags):\n",
    "    \"\"\"\n",
    "    Fixes the tags list to contain the lower case latin words only.\n",
    "    \"\"\"\n",
    "    if tags is not None and len(tags) > 0:\n",
    "        res = [tag.lower() for tag in tags if _only_roman_chars(tag)]\n",
    "        if len(res) > 0:\n",
    "            return res\n",
    "    \n",
    "        \n",
    "def _re_sub(s):\n",
    "    pattern = r'\\W+'\n",
    "    return re.sub(pattern,' ',s).strip()\n",
    "        \n",
    "def _process_string(s):\n",
    "    \n",
    "    try:\n",
    "        stop_words = stopwords.words(\"english\")\n",
    "        \n",
    "        \n",
    "        if type(s) == list:\n",
    "            s = s[0]\n",
    "\n",
    "        if len(demoji.findall(s)) > 0:\n",
    "            words = list(set(_re_sub(s).split(' ') + ' '.join(list(demoji.findall(s).values())).split(' ') ))\n",
    "        else:\n",
    "            words = _re_sub(s).split(' ')\n",
    "\n",
    "        res = []\n",
    "        for word in words:\n",
    "            if word not in stop_words:\n",
    "                res.append(word.lower())\n",
    "        return res\n",
    "    except TypeError:\n",
    "        return\n",
    "    except IndexError:\n",
    "        return\n",
    "\n",
    "\n",
    "def fix_tags(df):\n",
    "    title, tags = df\n",
    "    tags = _roman_tags(tags)\n",
    "    if tags is None or len(tags) == 0:\n",
    "        if title:\n",
    "            \n",
    "            proc_string = _process_string(title)\n",
    "            res = _roman_tags(proc_string)\n",
    "                \n",
    "            return res\n",
    "    else:\n",
    "        return tags\n",
    "        "
   ]
  },
  {
   "cell_type": "code",
   "execution_count": 11,
   "metadata": {
    "ExecuteTime": {
     "end_time": "2020-10-29T20:02:33.430891Z",
     "start_time": "2020-10-29T20:02:33.424470Z"
    }
   },
   "outputs": [
    {
     "data": {
      "text/plain": [
       "['tears', 'kitty', 'joy', 'little', 'cat', 'funny', 'face', 'grinning']"
      ]
     },
     "execution_count": 11,
     "metadata": {},
     "output_type": "execute_result"
    }
   ],
   "source": [
    "s = 'Little #kitty cat is so funny 😺😂😂'\n",
    "\n",
    "_process_string(s)\n"
   ]
  },
  {
   "cell_type": "markdown",
   "metadata": {},
   "source": [
    "**Comment** \n",
    "\n",
    "``Preprocess text columns & fill tags``.\n",
    "\n",
    "1. extract emojis in text columns where present and convert them to text \n",
    "2. Remove non latin tags.\n",
    "3. If tags are not present, look for latin coub title. If this is not present, look for external video latin title.  Make a flattened list out of string(s). Otherwise leave blank.\n",
    "4. Keep only alphanumeric charachters in coub title\n"
   ]
  },
  {
   "cell_type": "code",
   "execution_count": 12,
   "metadata": {
    "ExecuteTime": {
     "end_time": "2020-10-29T20:02:33.803520Z",
     "start_time": "2020-10-29T20:02:33.432443Z"
    },
    "scrolled": true
   },
   "outputs": [
    {
     "data": {
      "text/plain": [
       "(3354, 19)"
      ]
     },
     "execution_count": 12,
     "metadata": {},
     "output_type": "execute_result"
    }
   ],
   "source": [
    "# since the comments may come in different languages, I am going to keep latin based comments only.\n",
    "\n",
    "category_data['fixed_tags'] = category_data[['title','tags']].apply(fix_tags,axis=1)\n",
    "category_data['title'] = category_data['title'].apply(lambda x: _re_sub(x).strip())\n",
    "category_data.shape"
   ]
  },
  {
   "cell_type": "code",
   "execution_count": 13,
   "metadata": {
    "ExecuteTime": {
     "end_time": "2020-10-29T20:02:33.807899Z",
     "start_time": "2020-10-29T20:02:33.804799Z"
    }
   },
   "outputs": [
    {
     "data": {
      "text/plain": [
       "(1334,)"
      ]
     },
     "execution_count": 13,
     "metadata": {},
     "output_type": "execute_result"
    }
   ],
   "source": [
    "category_data.id.unique().shape"
   ]
  },
  {
   "cell_type": "markdown",
   "metadata": {},
   "source": [
    "Seems like we have multiple entries for the same video ID, let's see"
   ]
  },
  {
   "cell_type": "code",
   "execution_count": 14,
   "metadata": {
    "ExecuteTime": {
     "end_time": "2020-10-29T20:02:33.828240Z",
     "start_time": "2020-10-29T20:02:33.809167Z"
    }
   },
   "outputs": [
    {
     "data": {
      "text/html": [
       "<div>\n",
       "<style scoped>\n",
       "    .dataframe tbody tr th:only-of-type {\n",
       "        vertical-align: middle;\n",
       "    }\n",
       "\n",
       "    .dataframe tbody tr th {\n",
       "        vertical-align: top;\n",
       "    }\n",
       "\n",
       "    .dataframe thead th {\n",
       "        text-align: right;\n",
       "    }\n",
       "</style>\n",
       "<table border=\"1\" class=\"dataframe\">\n",
       "  <thead>\n",
       "    <tr style=\"text-align: right;\">\n",
       "      <th></th>\n",
       "      <th>channel_id</th>\n",
       "      <th>channel_title</th>\n",
       "      <th>channel_followers_count</th>\n",
       "      <th>channel_following_count</th>\n",
       "      <th>id</th>\n",
       "      <th>title</th>\n",
       "      <th>external_download</th>\n",
       "      <th>created_at</th>\n",
       "      <th>duration</th>\n",
       "      <th>views_count</th>\n",
       "      <th>recoubs_count</th>\n",
       "      <th>likes_count</th>\n",
       "      <th>dislikes_count</th>\n",
       "      <th>age_restricted</th>\n",
       "      <th>banned</th>\n",
       "      <th>tags</th>\n",
       "      <th>category_title</th>\n",
       "      <th>url_big</th>\n",
       "      <th>fixed_tags</th>\n",
       "    </tr>\n",
       "  </thead>\n",
       "  <tbody>\n",
       "    <tr>\n",
       "      <th>2178</th>\n",
       "      <td>5127326</td>\n",
       "      <td>Ilya Galkov</td>\n",
       "      <td>18</td>\n",
       "      <td>11</td>\n",
       "      <td>156571636</td>\n",
       "      <td>КалейдосКот</td>\n",
       "      <td>Vk</td>\n",
       "      <td>2020-10-26 10:32:22+00:00</td>\n",
       "      <td>8.04</td>\n",
       "      <td>11269</td>\n",
       "      <td>39</td>\n",
       "      <td>206</td>\n",
       "      <td>0</td>\n",
       "      <td>False</td>\n",
       "      <td>False</td>\n",
       "      <td>[кот, рыжий, cat, калейдоскоп]</td>\n",
       "      <td>Animals &amp; Pets</td>\n",
       "      <td>https://coubsecure-s.akamaihd.net/get/b85/p/co...</td>\n",
       "      <td>[cat]</td>\n",
       "    </tr>\n",
       "    <tr>\n",
       "      <th>1538</th>\n",
       "      <td>5127326</td>\n",
       "      <td>Ilya Galkov</td>\n",
       "      <td>18</td>\n",
       "      <td>11</td>\n",
       "      <td>156571636</td>\n",
       "      <td>КалейдосКот</td>\n",
       "      <td>Vk</td>\n",
       "      <td>2020-10-26 10:32:22+00:00</td>\n",
       "      <td>8.04</td>\n",
       "      <td>11256</td>\n",
       "      <td>38</td>\n",
       "      <td>204</td>\n",
       "      <td>0</td>\n",
       "      <td>False</td>\n",
       "      <td>False</td>\n",
       "      <td>[кот, рыжий, cat, калейдоскоп]</td>\n",
       "      <td>Animals &amp; Pets</td>\n",
       "      <td>https://coubsecure-s.akamaihd.net/get/b85/p/co...</td>\n",
       "      <td>[cat]</td>\n",
       "    </tr>\n",
       "    <tr>\n",
       "      <th>3138</th>\n",
       "      <td>5127326</td>\n",
       "      <td>Ilya Galkov</td>\n",
       "      <td>18</td>\n",
       "      <td>11</td>\n",
       "      <td>156571636</td>\n",
       "      <td>КалейдосКот</td>\n",
       "      <td>Vk</td>\n",
       "      <td>2020-10-26 10:32:22+00:00</td>\n",
       "      <td>8.04</td>\n",
       "      <td>11286</td>\n",
       "      <td>39</td>\n",
       "      <td>207</td>\n",
       "      <td>0</td>\n",
       "      <td>False</td>\n",
       "      <td>False</td>\n",
       "      <td>[кот, рыжий, cat, калейдоскоп]</td>\n",
       "      <td>Animals &amp; Pets</td>\n",
       "      <td>https://coubsecure-s.akamaihd.net/get/b85/p/co...</td>\n",
       "      <td>[cat]</td>\n",
       "    </tr>\n",
       "    <tr>\n",
       "      <th>2158</th>\n",
       "      <td>5127326</td>\n",
       "      <td>Ilya Galkov</td>\n",
       "      <td>18</td>\n",
       "      <td>11</td>\n",
       "      <td>156571636</td>\n",
       "      <td>КалейдосКот</td>\n",
       "      <td>Vk</td>\n",
       "      <td>2020-10-26 10:32:22+00:00</td>\n",
       "      <td>8.04</td>\n",
       "      <td>11269</td>\n",
       "      <td>39</td>\n",
       "      <td>206</td>\n",
       "      <td>0</td>\n",
       "      <td>False</td>\n",
       "      <td>False</td>\n",
       "      <td>[кот, рыжий, cat, калейдоскоп]</td>\n",
       "      <td>Animals &amp; Pets</td>\n",
       "      <td>https://coubsecure-s.akamaihd.net/get/b85/p/co...</td>\n",
       "      <td>[cat]</td>\n",
       "    </tr>\n",
       "    <tr>\n",
       "      <th>1838</th>\n",
       "      <td>5127326</td>\n",
       "      <td>Ilya Galkov</td>\n",
       "      <td>18</td>\n",
       "      <td>11</td>\n",
       "      <td>156571636</td>\n",
       "      <td>КалейдосКот</td>\n",
       "      <td>Vk</td>\n",
       "      <td>2020-10-26 10:32:22+00:00</td>\n",
       "      <td>8.04</td>\n",
       "      <td>11262</td>\n",
       "      <td>39</td>\n",
       "      <td>206</td>\n",
       "      <td>0</td>\n",
       "      <td>False</td>\n",
       "      <td>False</td>\n",
       "      <td>[кот, рыжий, cat, калейдоскоп]</td>\n",
       "      <td>Animals &amp; Pets</td>\n",
       "      <td>https://coubsecure-s.akamaihd.net/get/b85/p/co...</td>\n",
       "      <td>[cat]</td>\n",
       "    </tr>\n",
       "  </tbody>\n",
       "</table>\n",
       "</div>"
      ],
      "text/plain": [
       "      channel_id channel_title  channel_followers_count  \\\n",
       "2178     5127326   Ilya Galkov                       18   \n",
       "1538     5127326   Ilya Galkov                       18   \n",
       "3138     5127326   Ilya Galkov                       18   \n",
       "2158     5127326   Ilya Galkov                       18   \n",
       "1838     5127326   Ilya Galkov                       18   \n",
       "\n",
       "      channel_following_count         id        title external_download  \\\n",
       "2178                       11  156571636  КалейдосКот                Vk   \n",
       "1538                       11  156571636  КалейдосКот                Vk   \n",
       "3138                       11  156571636  КалейдосКот                Vk   \n",
       "2158                       11  156571636  КалейдосКот                Vk   \n",
       "1838                       11  156571636  КалейдосКот                Vk   \n",
       "\n",
       "                    created_at  duration  views_count  recoubs_count  \\\n",
       "2178 2020-10-26 10:32:22+00:00      8.04        11269             39   \n",
       "1538 2020-10-26 10:32:22+00:00      8.04        11256             38   \n",
       "3138 2020-10-26 10:32:22+00:00      8.04        11286             39   \n",
       "2158 2020-10-26 10:32:22+00:00      8.04        11269             39   \n",
       "1838 2020-10-26 10:32:22+00:00      8.04        11262             39   \n",
       "\n",
       "      likes_count  dislikes_count  age_restricted  banned  \\\n",
       "2178          206               0           False   False   \n",
       "1538          204               0           False   False   \n",
       "3138          207               0           False   False   \n",
       "2158          206               0           False   False   \n",
       "1838          206               0           False   False   \n",
       "\n",
       "                                tags  category_title  \\\n",
       "2178  [кот, рыжий, cat, калейдоскоп]  Animals & Pets   \n",
       "1538  [кот, рыжий, cat, калейдоскоп]  Animals & Pets   \n",
       "3138  [кот, рыжий, cat, калейдоскоп]  Animals & Pets   \n",
       "2158  [кот, рыжий, cat, калейдоскоп]  Animals & Pets   \n",
       "1838  [кот, рыжий, cat, калейдоскоп]  Animals & Pets   \n",
       "\n",
       "                                                url_big fixed_tags  \n",
       "2178  https://coubsecure-s.akamaihd.net/get/b85/p/co...      [cat]  \n",
       "1538  https://coubsecure-s.akamaihd.net/get/b85/p/co...      [cat]  \n",
       "3138  https://coubsecure-s.akamaihd.net/get/b85/p/co...      [cat]  \n",
       "2158  https://coubsecure-s.akamaihd.net/get/b85/p/co...      [cat]  \n",
       "1838  https://coubsecure-s.akamaihd.net/get/b85/p/co...      [cat]  "
      ]
     },
     "execution_count": 14,
     "metadata": {},
     "output_type": "execute_result"
    }
   ],
   "source": [
    "category_data.sort_values(by='id').tail(5)"
   ]
  },
  {
   "cell_type": "markdown",
   "metadata": {},
   "source": [
    "Okay, as seen, last sevral rows exactly illustrate the situation. There we have different **views_count** only, while other characteristics remain unchanged. I consider keeping only the rows with the most recent number of views. We also remove entries with NaNs."
   ]
  },
  {
   "cell_type": "code",
   "execution_count": 15,
   "metadata": {
    "ExecuteTime": {
     "end_time": "2020-10-29T20:02:34.625614Z",
     "start_time": "2020-10-29T20:02:33.829408Z"
    }
   },
   "outputs": [],
   "source": [
    "category_data = category_data.groupby('id').max().reset_index().dropna()"
   ]
  },
  {
   "cell_type": "code",
   "execution_count": 16,
   "metadata": {
    "ExecuteTime": {
     "end_time": "2020-10-29T20:02:34.630265Z",
     "start_time": "2020-10-29T20:02:34.627270Z"
    }
   },
   "outputs": [
    {
     "data": {
      "text/plain": [
       "(1126, 19)"
      ]
     },
     "execution_count": 16,
     "metadata": {},
     "output_type": "execute_result"
    }
   ],
   "source": [
    "category_data.shape"
   ]
  },
  {
   "cell_type": "code",
   "execution_count": 17,
   "metadata": {
    "ExecuteTime": {
     "end_time": "2020-10-29T20:02:34.645061Z",
     "start_time": "2020-10-29T20:02:34.631643Z"
    }
   },
   "outputs": [
    {
     "data": {
      "text/html": [
       "<div>\n",
       "<style scoped>\n",
       "    .dataframe tbody tr th:only-of-type {\n",
       "        vertical-align: middle;\n",
       "    }\n",
       "\n",
       "    .dataframe tbody tr th {\n",
       "        vertical-align: top;\n",
       "    }\n",
       "\n",
       "    .dataframe thead th {\n",
       "        text-align: right;\n",
       "    }\n",
       "</style>\n",
       "<table border=\"1\" class=\"dataframe\">\n",
       "  <thead>\n",
       "    <tr style=\"text-align: right;\">\n",
       "      <th></th>\n",
       "      <th>id</th>\n",
       "      <th>channel_id</th>\n",
       "      <th>channel_title</th>\n",
       "      <th>channel_followers_count</th>\n",
       "      <th>channel_following_count</th>\n",
       "      <th>title</th>\n",
       "      <th>external_download</th>\n",
       "      <th>created_at</th>\n",
       "      <th>duration</th>\n",
       "      <th>views_count</th>\n",
       "      <th>recoubs_count</th>\n",
       "      <th>likes_count</th>\n",
       "      <th>dislikes_count</th>\n",
       "      <th>age_restricted</th>\n",
       "      <th>banned</th>\n",
       "      <th>tags</th>\n",
       "      <th>category_title</th>\n",
       "      <th>url_big</th>\n",
       "      <th>fixed_tags</th>\n",
       "    </tr>\n",
       "  </thead>\n",
       "  <tbody>\n",
       "    <tr>\n",
       "      <th>152</th>\n",
       "      <td>133069158</td>\n",
       "      <td>622710</td>\n",
       "      <td>thegolova</td>\n",
       "      <td>16</td>\n",
       "      <td>7</td>\n",
       "      <td>hello</td>\n",
       "      <td>YouTube</td>\n",
       "      <td>2019-12-29 15:40:30+00:00</td>\n",
       "      <td>8.28</td>\n",
       "      <td>32704</td>\n",
       "      <td>49</td>\n",
       "      <td>354</td>\n",
       "      <td>1</td>\n",
       "      <td>False</td>\n",
       "      <td>False</td>\n",
       "      <td>[]</td>\n",
       "      <td>Animals &amp; Pets</td>\n",
       "      <td>https://coubsecure-s.akamaihd.net/get/b123/p/c...</td>\n",
       "      <td>[hello]</td>\n",
       "    </tr>\n",
       "  </tbody>\n",
       "</table>\n",
       "</div>"
      ],
      "text/plain": [
       "            id  channel_id channel_title  channel_followers_count  \\\n",
       "152  133069158      622710     thegolova                       16   \n",
       "\n",
       "     channel_following_count  title external_download  \\\n",
       "152                        7  hello           YouTube   \n",
       "\n",
       "                   created_at  duration  views_count  recoubs_count  \\\n",
       "152 2019-12-29 15:40:30+00:00      8.28        32704             49   \n",
       "\n",
       "     likes_count  dislikes_count  age_restricted  banned tags  category_title  \\\n",
       "152          354               1           False   False   []  Animals & Pets   \n",
       "\n",
       "                                               url_big fixed_tags  \n",
       "152  https://coubsecure-s.akamaihd.net/get/b123/p/c...    [hello]  "
      ]
     },
     "execution_count": 17,
     "metadata": {},
     "output_type": "execute_result"
    }
   ],
   "source": [
    "category_data[category_data.dislikes_count > 0]"
   ]
  },
  {
   "cell_type": "code",
   "execution_count": 18,
   "metadata": {
    "ExecuteTime": {
     "end_time": "2020-10-29T20:02:34.655543Z",
     "start_time": "2020-10-29T20:02:34.647073Z"
    }
   },
   "outputs": [
    {
     "data": {
      "text/html": [
       "<div>\n",
       "<style scoped>\n",
       "    .dataframe tbody tr th:only-of-type {\n",
       "        vertical-align: middle;\n",
       "    }\n",
       "\n",
       "    .dataframe tbody tr th {\n",
       "        vertical-align: top;\n",
       "    }\n",
       "\n",
       "    .dataframe thead th {\n",
       "        text-align: right;\n",
       "    }\n",
       "</style>\n",
       "<table border=\"1\" class=\"dataframe\">\n",
       "  <thead>\n",
       "    <tr style=\"text-align: right;\">\n",
       "      <th></th>\n",
       "      <th>id</th>\n",
       "      <th>channel_id</th>\n",
       "      <th>channel_title</th>\n",
       "      <th>channel_followers_count</th>\n",
       "      <th>channel_following_count</th>\n",
       "      <th>title</th>\n",
       "      <th>external_download</th>\n",
       "      <th>created_at</th>\n",
       "      <th>duration</th>\n",
       "      <th>views_count</th>\n",
       "      <th>recoubs_count</th>\n",
       "      <th>likes_count</th>\n",
       "      <th>dislikes_count</th>\n",
       "      <th>age_restricted</th>\n",
       "      <th>banned</th>\n",
       "      <th>tags</th>\n",
       "      <th>category_title</th>\n",
       "      <th>url_big</th>\n",
       "      <th>fixed_tags</th>\n",
       "    </tr>\n",
       "  </thead>\n",
       "  <tbody>\n",
       "  </tbody>\n",
       "</table>\n",
       "</div>"
      ],
      "text/plain": [
       "Empty DataFrame\n",
       "Columns: [id, channel_id, channel_title, channel_followers_count, channel_following_count, title, external_download, created_at, duration, views_count, recoubs_count, likes_count, dislikes_count, age_restricted, banned, tags, category_title, url_big, fixed_tags]\n",
       "Index: []"
      ]
     },
     "execution_count": 18,
     "metadata": {},
     "output_type": "execute_result"
    }
   ],
   "source": [
    "category_data[category_data.age_restricted == True]"
   ]
  },
  {
   "cell_type": "code",
   "execution_count": 19,
   "metadata": {
    "ExecuteTime": {
     "end_time": "2020-10-29T20:02:34.667297Z",
     "start_time": "2020-10-29T20:02:34.657268Z"
    }
   },
   "outputs": [
    {
     "data": {
      "text/html": [
       "<div>\n",
       "<style scoped>\n",
       "    .dataframe tbody tr th:only-of-type {\n",
       "        vertical-align: middle;\n",
       "    }\n",
       "\n",
       "    .dataframe tbody tr th {\n",
       "        vertical-align: top;\n",
       "    }\n",
       "\n",
       "    .dataframe thead th {\n",
       "        text-align: right;\n",
       "    }\n",
       "</style>\n",
       "<table border=\"1\" class=\"dataframe\">\n",
       "  <thead>\n",
       "    <tr style=\"text-align: right;\">\n",
       "      <th></th>\n",
       "      <th>id</th>\n",
       "      <th>channel_id</th>\n",
       "      <th>channel_title</th>\n",
       "      <th>channel_followers_count</th>\n",
       "      <th>channel_following_count</th>\n",
       "      <th>title</th>\n",
       "      <th>external_download</th>\n",
       "      <th>created_at</th>\n",
       "      <th>duration</th>\n",
       "      <th>views_count</th>\n",
       "      <th>recoubs_count</th>\n",
       "      <th>likes_count</th>\n",
       "      <th>dislikes_count</th>\n",
       "      <th>age_restricted</th>\n",
       "      <th>banned</th>\n",
       "      <th>tags</th>\n",
       "      <th>category_title</th>\n",
       "      <th>url_big</th>\n",
       "      <th>fixed_tags</th>\n",
       "    </tr>\n",
       "  </thead>\n",
       "  <tbody>\n",
       "  </tbody>\n",
       "</table>\n",
       "</div>"
      ],
      "text/plain": [
       "Empty DataFrame\n",
       "Columns: [id, channel_id, channel_title, channel_followers_count, channel_following_count, title, external_download, created_at, duration, views_count, recoubs_count, likes_count, dislikes_count, age_restricted, banned, tags, category_title, url_big, fixed_tags]\n",
       "Index: []"
      ]
     },
     "execution_count": 19,
     "metadata": {},
     "output_type": "execute_result"
    }
   ],
   "source": [
    "category_data[category_data.banned == True]"
   ]
  },
  {
   "cell_type": "code",
   "execution_count": 20,
   "metadata": {
    "ExecuteTime": {
     "end_time": "2020-10-29T20:02:34.672503Z",
     "start_time": "2020-10-29T20:02:34.668983Z"
    }
   },
   "outputs": [],
   "source": [
    "# since there's no restricted or banned videos, we drop these columns\n",
    "category_data = category_data.drop(['age_restricted','banned'],axis=1)"
   ]
  },
  {
   "cell_type": "code",
   "execution_count": 21,
   "metadata": {
    "ExecuteTime": {
     "end_time": "2020-10-29T20:02:34.680719Z",
     "start_time": "2020-10-29T20:02:34.674218Z"
    }
   },
   "outputs": [
    {
     "data": {
      "text/plain": [
       "count    1126.000000\n",
       "mean      790.571048\n",
       "std      1100.930918\n",
       "min        33.000000\n",
       "25%       274.250000\n",
       "50%       428.500000\n",
       "75%       708.500000\n",
       "max      9947.000000\n",
       "Name: likes_count, dtype: float64"
      ]
     },
     "execution_count": 21,
     "metadata": {},
     "output_type": "execute_result"
    }
   ],
   "source": [
    "# since we don't have sufficient dislikes data, we will randomly generate them, and the \n",
    "category_data.likes_count.describe()"
   ]
  },
  {
   "cell_type": "code",
   "execution_count": 22,
   "metadata": {
    "ExecuteTime": {
     "end_time": "2020-10-29T20:02:34.698048Z",
     "start_time": "2020-10-29T20:02:34.682111Z"
    }
   },
   "outputs": [],
   "source": [
    "category_data.dislikes_count = category_data.dislikes_count.apply(lambda x: np.random.randint(0,720) if x == 0 else x)\n"
   ]
  },
  {
   "cell_type": "code",
   "execution_count": 23,
   "metadata": {
    "ExecuteTime": {
     "end_time": "2020-10-29T20:02:34.710055Z",
     "start_time": "2020-10-29T20:02:34.703514Z"
    }
   },
   "outputs": [
    {
     "data": {
      "text/plain": [
       "Index(['id', 'channel_id', 'channel_title', 'channel_followers_count',\n",
       "       'channel_following_count', 'title', 'external_download', 'created_at',\n",
       "       'duration', 'views_count', 'recoubs_count', 'likes_count',\n",
       "       'dislikes_count', 'tags', 'category_title', 'url_big', 'fixed_tags'],\n",
       "      dtype='object')"
      ]
     },
     "execution_count": 23,
     "metadata": {},
     "output_type": "execute_result"
    }
   ],
   "source": [
    "category_data.columns"
   ]
  },
  {
   "cell_type": "code",
   "execution_count": 24,
   "metadata": {
    "ExecuteTime": {
     "end_time": "2020-10-29T20:02:34.716260Z",
     "start_time": "2020-10-29T20:02:34.713779Z"
    }
   },
   "outputs": [],
   "source": [
    "category_data = category_data.reset_index(drop=True)"
   ]
  },
  {
   "cell_type": "code",
   "execution_count": 25,
   "metadata": {
    "ExecuteTime": {
     "end_time": "2020-10-29T20:02:35.625715Z",
     "start_time": "2020-10-29T20:02:34.717760Z"
    }
   },
   "outputs": [
    {
     "data": {
      "image/png": "[encoded data removed]",
      "text/plain": [
       "<Figure size 1440x360 with 4 Axes>"
      ]
     },
     "metadata": {
      "needs_background": "light"
     },
     "output_type": "display_data"
    }
   ],
   "source": [
    "cols = ['views_count', 'recoubs_count', 'likes_count','dislikes_count']\n",
    "axes = category_data.groupby(['created_at']).mean()[cols].plot(subplots=True, figsize=(20,5))\n",
    "for ax in axes:\n",
    "    ax.legend(loc=2);"
   ]
  },
  {
   "cell_type": "markdown",
   "metadata": {},
   "source": [
    "It seems we have a peak of activity in our category **ANIMALS & PETS** starting in **July 2020**."
   ]
  },
  {
   "cell_type": "markdown",
   "metadata": {},
   "source": [
    "## Load user and likes data for selected videos"
   ]
  },
  {
   "cell_type": "code",
   "execution_count": 26,
   "metadata": {
    "ExecuteTime": {
     "end_time": "2020-10-29T20:02:35.630789Z",
     "start_time": "2020-10-29T20:02:35.626959Z"
    }
   },
   "outputs": [
    {
     "data": {
      "text/plain": [
       "array([80296774, 84097236, 85799090, 86754880, 86806583])"
      ]
     },
     "execution_count": 26,
     "metadata": {},
     "output_type": "execute_result"
    }
   ],
   "source": [
    "videos_list = category_data.id.values\n",
    "videos_list[:5]"
   ]
  },
  {
   "cell_type": "code",
   "execution_count": 27,
   "metadata": {
    "ExecuteTime": {
     "end_time": "2020-10-29T20:02:35.634780Z",
     "start_time": "2020-10-29T20:02:35.632153Z"
    }
   },
   "outputs": [
    {
     "data": {
      "text/plain": [
       "1126"
      ]
     },
     "execution_count": 27,
     "metadata": {},
     "output_type": "execute_result"
    }
   ],
   "source": [
    "len(videos_list)"
   ]
  },
  {
   "cell_type": "code",
   "execution_count": 28,
   "metadata": {
    "ExecuteTime": {
     "end_time": "2020-10-29T20:02:35.647597Z",
     "start_time": "2020-10-29T20:02:35.636065Z"
    }
   },
   "outputs": [],
   "source": [
    "from multiprocessing import Pool, cpu_count\n",
    "import tqdm\n",
    "# from tqdm.notebook import tqdm\n",
    "\n",
    "\n",
    "def multi_proc(func, file_list):\n",
    "    \"\"\"\n",
    "    Multiprocessing computation.\n",
    "    Arguments:\n",
    "        :func - calculation function;\n",
    "        :file_list - list of files to process;\n",
    "    Returns:\n",
    "        :merge_df - merged dataframe with func-results.\n",
    "    \"\"\"\n",
    "    list_chunk = np.array_split(file_list, cpu_count())\n",
    "    with Pool(cpu_count()) as p:\n",
    "        merge_df = pd.concat(list(tqdm.tqdm(p.imap(func, list_chunk), total=len(file_list))))\n",
    "    \n",
    "    return merge_df\n",
    "\n",
    "\n",
    "def multi_proc(func, file_list):\n",
    "    \"\"\"\n",
    "    Multiprocessing computation.\n",
    "    Arguments:\n",
    "        :func - calculation function;\n",
    "        :file_list - list of files to process;\n",
    "    Returns:\n",
    "        :merge_df - merged dataframe with func-results.\n",
    "    \"\"\"\n",
    "    try:\n",
    "        list_chunk = np.array_split(file_list, cpu_count())\n",
    "\n",
    "        mp = Pool(cpu_count())\n",
    "        merge_df = pd.concat(mp.map(func, list_chunk))\n",
    "        mp.close()\n",
    "        mp.join()\n",
    "\n",
    "        return merge_df\n",
    "    except:\n",
    "        pass\n",
    "\n"
   ]
  },
  {
   "cell_type": "code",
   "execution_count": 29,
   "metadata": {
    "ExecuteTime": {
     "end_time": "2020-10-29T20:02:35.705798Z",
     "start_time": "2020-10-29T20:02:35.648902Z"
    }
   },
   "outputs": [
    {
     "name": "stdout",
     "output_type": "stream",
     "text": [
      "data loaded from disk.\n"
     ]
    }
   ],
   "source": [
    "coub_reaction_user_list_df_p1 = load_data(multi_proc,\n",
    "                                       path='input_data',\n",
    "                                       file_name='coub_reaction_user_list_df_p1.pkl', \n",
    "                                       overwrite=False, \n",
    "                                       mp_func=get_coub_reaction_list,\n",
    "                                       file_list=videos_list[:300])"
   ]
  },
  {
   "cell_type": "code",
   "execution_count": 30,
   "metadata": {
    "ExecuteTime": {
     "end_time": "2020-10-29T20:02:35.711141Z",
     "start_time": "2020-10-29T20:02:35.707155Z"
    }
   },
   "outputs": [
    {
     "data": {
      "text/plain": [
       "(300,)"
      ]
     },
     "execution_count": 30,
     "metadata": {},
     "output_type": "execute_result"
    }
   ],
   "source": [
    "coub_reaction_user_list_df_p1.coub_id.unique().shape"
   ]
  },
  {
   "cell_type": "code",
   "execution_count": 31,
   "metadata": {
    "ExecuteTime": {
     "end_time": "2020-10-29T20:02:35.802283Z",
     "start_time": "2020-10-29T20:02:35.712550Z"
    }
   },
   "outputs": [
    {
     "name": "stdout",
     "output_type": "stream",
     "text": [
      "data loaded from disk.\n"
     ]
    }
   ],
   "source": [
    "coub_reaction_user_list_df_p2 = load_data(multi_proc,\n",
    "                                       path='input_data',\n",
    "                                       file_name='coub_reaction_user_list_df_p2.pkl', \n",
    "                                       overwrite=False, \n",
    "                                       mp_func=get_coub_reaction_list,\n",
    "                                       file_list=videos_list[300:600])"
   ]
  },
  {
   "cell_type": "code",
   "execution_count": 32,
   "metadata": {
    "ExecuteTime": {
     "end_time": "2020-10-29T20:02:35.809462Z",
     "start_time": "2020-10-29T20:02:35.803777Z"
    }
   },
   "outputs": [
    {
     "data": {
      "text/plain": [
       "(300,)"
      ]
     },
     "execution_count": 32,
     "metadata": {},
     "output_type": "execute_result"
    }
   ],
   "source": [
    "coub_reaction_user_list_df_p2.coub_id.unique().shape"
   ]
  },
  {
   "cell_type": "code",
   "execution_count": 33,
   "metadata": {
    "ExecuteTime": {
     "end_time": "2020-10-29T20:02:35.966869Z",
     "start_time": "2020-10-29T20:02:35.811037Z"
    }
   },
   "outputs": [
    {
     "name": "stdout",
     "output_type": "stream",
     "text": [
      "data loaded from disk.\n"
     ]
    },
    {
     "data": {
      "text/plain": [
       "(568,)"
      ]
     },
     "execution_count": 33,
     "metadata": {},
     "output_type": "execute_result"
    }
   ],
   "source": [
    "coub_reaction_user_list_df_p3 = load_data(multi_proc,\n",
    "                                       path='input_data',\n",
    "                                       file_name='coub_reaction_user_list_df_p3.pkl', \n",
    "                                       overwrite=False, \n",
    "                                       mp_func=get_coub_reaction_list,\n",
    "                                       file_list=videos_list[600:])\n",
    "\n",
    "coub_reaction_user_list_df_p3.coub_id.unique().shape"
   ]
  },
  {
   "cell_type": "code",
   "execution_count": 34,
   "metadata": {
    "ExecuteTime": {
     "end_time": "2020-10-29T20:02:36.172332Z",
     "start_time": "2020-10-29T20:02:35.968358Z"
    }
   },
   "outputs": [],
   "source": [
    "coub_reaction_user_list_df_all = pd.concat([coub_reaction_user_list_df_p1,coub_reaction_user_list_df_p2, coub_reaction_user_list_df_p3])\n"
   ]
  },
  {
   "cell_type": "code",
   "execution_count": 35,
   "metadata": {
    "ExecuteTime": {
     "end_time": "2020-10-29T20:02:36.186220Z",
     "start_time": "2020-10-29T20:02:36.174250Z"
    }
   },
   "outputs": [
    {
     "data": {
      "text/plain": [
       "(1168,)"
      ]
     },
     "execution_count": 35,
     "metadata": {},
     "output_type": "execute_result"
    }
   ],
   "source": [
    "coub_reaction_user_list_df_all.coub_id.unique().shape"
   ]
  },
  {
   "cell_type": "code",
   "execution_count": 36,
   "metadata": {
    "ExecuteTime": {
     "end_time": "2020-10-29T20:02:36.196723Z",
     "start_time": "2020-10-29T20:02:36.187909Z"
    }
   },
   "outputs": [
    {
     "data": {
      "text/html": [
       "<div>\n",
       "<style scoped>\n",
       "    .dataframe tbody tr th:only-of-type {\n",
       "        vertical-align: middle;\n",
       "    }\n",
       "\n",
       "    .dataframe tbody tr th {\n",
       "        vertical-align: top;\n",
       "    }\n",
       "\n",
       "    .dataframe thead th {\n",
       "        text-align: right;\n",
       "    }\n",
       "</style>\n",
       "<table border=\"1\" class=\"dataframe\">\n",
       "  <thead>\n",
       "    <tr style=\"text-align: right;\">\n",
       "      <th></th>\n",
       "      <th>coub_id</th>\n",
       "      <th>user_id</th>\n",
       "      <th>user_name</th>\n",
       "      <th>user_followers_count</th>\n",
       "      <th>user_following_count</th>\n",
       "      <th>reaction_type</th>\n",
       "    </tr>\n",
       "  </thead>\n",
       "  <tbody>\n",
       "    <tr>\n",
       "      <th>0</th>\n",
       "      <td>80296774</td>\n",
       "      <td>4798352</td>\n",
       "      <td>Tefomand76191</td>\n",
       "      <td>16</td>\n",
       "      <td>2679</td>\n",
       "      <td>like</td>\n",
       "    </tr>\n",
       "    <tr>\n",
       "      <th>1</th>\n",
       "      <td>80296774</td>\n",
       "      <td>4743899</td>\n",
       "      <td>Hygienis</td>\n",
       "      <td>47</td>\n",
       "      <td>4995</td>\n",
       "      <td>like</td>\n",
       "    </tr>\n",
       "    <tr>\n",
       "      <th>2</th>\n",
       "      <td>80296774</td>\n",
       "      <td>2994814</td>\n",
       "      <td>Pakyto</td>\n",
       "      <td>19</td>\n",
       "      <td>1755</td>\n",
       "      <td>like</td>\n",
       "    </tr>\n",
       "    <tr>\n",
       "      <th>3</th>\n",
       "      <td>80296774</td>\n",
       "      <td>4112500</td>\n",
       "      <td>Coes56603</td>\n",
       "      <td>7</td>\n",
       "      <td>12</td>\n",
       "      <td>like</td>\n",
       "    </tr>\n",
       "    <tr>\n",
       "      <th>4</th>\n",
       "      <td>80296774</td>\n",
       "      <td>682291</td>\n",
       "      <td>vova</td>\n",
       "      <td>25</td>\n",
       "      <td>3480</td>\n",
       "      <td>like</td>\n",
       "    </tr>\n",
       "  </tbody>\n",
       "</table>\n",
       "</div>"
      ],
      "text/plain": [
       "    coub_id  user_id      user_name  user_followers_count  \\\n",
       "0  80296774  4798352  Tefomand76191                    16   \n",
       "1  80296774  4743899       Hygienis                    47   \n",
       "2  80296774  2994814         Pakyto                    19   \n",
       "3  80296774  4112500      Coes56603                     7   \n",
       "4  80296774   682291           vova                    25   \n",
       "\n",
       "   user_following_count reaction_type  \n",
       "0                  2679          like  \n",
       "1                  4995          like  \n",
       "2                  1755          like  \n",
       "3                    12          like  \n",
       "4                  3480          like  "
      ]
     },
     "execution_count": 36,
     "metadata": {},
     "output_type": "execute_result"
    }
   ],
   "source": [
    "coub_reaction_user_list_df_all.head()"
   ]
  },
  {
   "cell_type": "code",
   "execution_count": 37,
   "metadata": {
    "ExecuteTime": {
     "end_time": "2020-10-29T20:02:36.230180Z",
     "start_time": "2020-10-29T20:02:36.198636Z"
    }
   },
   "outputs": [
    {
     "data": {
      "text/plain": [
       "((1111450, 6), (132466,))"
      ]
     },
     "execution_count": 37,
     "metadata": {},
     "output_type": "execute_result"
    }
   ],
   "source": [
    "coub_reaction_user_list_df_all.shape, coub_reaction_user_list_df_all.user_id.unique().shape"
   ]
  },
  {
   "cell_type": "code",
   "execution_count": 38,
   "metadata": {
    "ExecuteTime": {
     "end_time": "2020-10-29T20:02:41.907974Z",
     "start_time": "2020-10-29T20:02:36.232474Z"
    }
   },
   "outputs": [],
   "source": [
    "# since users with non-latin names are more likely to like non-latin name videos, we remove them\n",
    "coub_reaction_user_list_df_all['latin_name'] = coub_reaction_user_list_df_all.user_name.apply(_only_roman_chars)\n",
    "coub_reaction_user_list_df_all = coub_reaction_user_list_df_all[coub_reaction_user_list_df_all['latin_name']==True]\n",
    "coub_reaction_user_list_df_all = coub_reaction_user_list_df_all.drop('latin_name', axis=1)"
   ]
  },
  {
   "cell_type": "code",
   "execution_count": 39,
   "metadata": {
    "ExecuteTime": {
     "end_time": "2020-10-29T20:02:41.930112Z",
     "start_time": "2020-10-29T20:02:41.910257Z"
    }
   },
   "outputs": [
    {
     "data": {
      "text/plain": [
       "((838336, 6), (101043,))"
      ]
     },
     "execution_count": 39,
     "metadata": {},
     "output_type": "execute_result"
    }
   ],
   "source": [
    "\n",
    "coub_reaction_user_list_df_all.shape, coub_reaction_user_list_df_all.user_id.unique().shape"
   ]
  },
  {
   "cell_type": "code",
   "execution_count": 40,
   "metadata": {
    "ExecuteTime": {
     "end_time": "2020-10-29T20:02:42.003558Z",
     "start_time": "2020-10-29T20:02:41.932390Z"
    }
   },
   "outputs": [
    {
     "data": {
      "text/plain": [
       "(23157,)"
      ]
     },
     "execution_count": 40,
     "metadata": {},
     "output_type": "execute_result"
    }
   ],
   "source": [
    "coub_reaction_user_list_df_all[coub_reaction_user_list_df_all.reaction_type=='repost'].user_id.unique().shape"
   ]
  },
  {
   "cell_type": "code",
   "execution_count": 41,
   "metadata": {
    "ExecuteTime": {
     "end_time": "2020-10-29T20:02:42.085677Z",
     "start_time": "2020-10-29T20:02:42.006011Z"
    }
   },
   "outputs": [
    {
     "data": {
      "text/plain": [
       "((101043,), (23157,))"
      ]
     },
     "execution_count": 41,
     "metadata": {},
     "output_type": "execute_result"
    }
   ],
   "source": [
    "user_ids_all = coub_reaction_user_list_df_all.user_id.unique()\n",
    "user_ids_repo = coub_reaction_user_list_df_all[coub_reaction_user_list_df_all.reaction_type=='repost'].user_id.unique()\n",
    "user_ids_all.shape, user_ids_repo.shape\n"
   ]
  },
  {
   "cell_type": "markdown",
   "metadata": {},
   "source": [
    "# Building the recommender"
   ]
  },
  {
   "cell_type": "markdown",
   "metadata": {},
   "source": [
    "## Content based recommender w/o user rating"
   ]
  },
  {
   "cell_type": "markdown",
   "metadata": {},
   "source": [
    "We'll create a simple recommender based on title, category and tags"
   ]
  },
  {
   "cell_type": "markdown",
   "metadata": {},
   "source": [
    "### Item-Item recommendation"
   ]
  },
  {
   "cell_type": "markdown",
   "metadata": {},
   "source": [
    "#### Creating a TF-IDF Vectorizer"
   ]
  },
  {
   "cell_type": "markdown",
   "metadata": {},
   "source": [
    "The **TD-IDF** algorithm is used to weigh a keyword in any document and assign the importance to that keyword based on the number of times it appears in the document. Put simply, the higher the TF-IDF score (weight), the rarer and more important the term, and vice versa."
   ]
  },
  {
   "cell_type": "markdown",
   "metadata": {},
   "source": [
    "Each word or term has its respective TF and IDF score. The product of the TF and IDF scores of a term is called the TF-IDF weight of that term.\n",
    "\n",
    "The **TF (term frequency)** of a word is the number of times it appears in a document. When you know it, you’re able to see if you’re using a term too often or too infrequently.\n",
    "\n",
    "`TF(t) = (Number of times term t appears in a document) / (Total number of terms in the document).`\n",
    "\n",
    "The **IDF (inverse document frequency)** of a word is the measure of how significant that term is in the whole corpus.\n",
    "\n",
    "`IDF(t) = log_e(Total number of documents / Number of documents with term t in it).`\n",
    "\n",
    "\\begin{equation*}\n",
    "w_{x,y} = tf_{x,y} * log \\left( \\frac{N}{df_x} \\right),  \n",
    "\\end{equation*}\n",
    "\n",
    "where:\n",
    "\n",
    "- tf_{x,y} - frequency of *x* in *y*\n",
    "- df_x - number of documents containing *x*\n",
    "- N - total number of documents"
   ]
  },
  {
   "cell_type": "code",
   "execution_count": 42,
   "metadata": {
    "ExecuteTime": {
     "end_time": "2020-10-29T20:02:42.106965Z",
     "start_time": "2020-10-29T20:02:42.087649Z"
    }
   },
   "outputs": [
    {
     "data": {
      "text/html": [
       "<div>\n",
       "<style scoped>\n",
       "    .dataframe tbody tr th:only-of-type {\n",
       "        vertical-align: middle;\n",
       "    }\n",
       "\n",
       "    .dataframe tbody tr th {\n",
       "        vertical-align: top;\n",
       "    }\n",
       "\n",
       "    .dataframe thead th {\n",
       "        text-align: right;\n",
       "    }\n",
       "</style>\n",
       "<table border=\"1\" class=\"dataframe\">\n",
       "  <thead>\n",
       "    <tr style=\"text-align: right;\">\n",
       "      <th></th>\n",
       "      <th>id</th>\n",
       "      <th>channel_id</th>\n",
       "      <th>channel_title</th>\n",
       "      <th>channel_followers_count</th>\n",
       "      <th>channel_following_count</th>\n",
       "      <th>title</th>\n",
       "      <th>external_download</th>\n",
       "      <th>created_at</th>\n",
       "      <th>duration</th>\n",
       "      <th>views_count</th>\n",
       "      <th>recoubs_count</th>\n",
       "      <th>likes_count</th>\n",
       "      <th>dislikes_count</th>\n",
       "      <th>tags</th>\n",
       "      <th>category_title</th>\n",
       "      <th>url_big</th>\n",
       "      <th>fixed_tags</th>\n",
       "    </tr>\n",
       "  </thead>\n",
       "  <tbody>\n",
       "    <tr>\n",
       "      <th>0</th>\n",
       "      <td>80296774</td>\n",
       "      <td>4631772</td>\n",
       "      <td>Akhmedzhanova Olesya</td>\n",
       "      <td>6</td>\n",
       "      <td>11</td>\n",
       "      <td>cat</td>\n",
       "      <td>local</td>\n",
       "      <td>2018-07-21 16:46:19+00:00</td>\n",
       "      <td>8.04</td>\n",
       "      <td>26221</td>\n",
       "      <td>19</td>\n",
       "      <td>175</td>\n",
       "      <td>103</td>\n",
       "      <td>[]</td>\n",
       "      <td>Animals &amp; Pets</td>\n",
       "      <td>https://coubsecure-s.akamaihd.net/get/b198/p/c...</td>\n",
       "      <td>[cat]</td>\n",
       "    </tr>\n",
       "    <tr>\n",
       "      <th>1</th>\n",
       "      <td>84097236</td>\n",
       "      <td>4150504</td>\n",
       "      <td>CoubPatrick</td>\n",
       "      <td>73</td>\n",
       "      <td>1</td>\n",
       "      <td>What does a fox say</td>\n",
       "      <td>YouTube</td>\n",
       "      <td>2018-09-02 07:53:33+00:00</td>\n",
       "      <td>9.44</td>\n",
       "      <td>55484</td>\n",
       "      <td>105</td>\n",
       "      <td>657</td>\n",
       "      <td>177</td>\n",
       "      <td>[]</td>\n",
       "      <td>Animals &amp; Pets</td>\n",
       "      <td>https://coubsecure-s.akamaihd.net/get/b110/p/c...</td>\n",
       "      <td>[what, fox, say]</td>\n",
       "    </tr>\n",
       "    <tr>\n",
       "      <th>2</th>\n",
       "      <td>85799090</td>\n",
       "      <td>438309</td>\n",
       "      <td>Zubor Zalán</td>\n",
       "      <td>211</td>\n",
       "      <td>98</td>\n",
       "      <td>Ride the worm</td>\n",
       "      <td>local</td>\n",
       "      <td>2018-09-20 11:53:08+00:00</td>\n",
       "      <td>10.00</td>\n",
       "      <td>55368</td>\n",
       "      <td>153</td>\n",
       "      <td>729</td>\n",
       "      <td>411</td>\n",
       "      <td>[dune, worm, riding, soliders, worms, ferrari]</td>\n",
       "      <td>Animals &amp; Pets</td>\n",
       "      <td>https://coubsecure-s.akamaihd.net/get/b87/p/co...</td>\n",
       "      <td>[dune, worm, riding, soliders, worms, ferrari]</td>\n",
       "    </tr>\n",
       "    <tr>\n",
       "      <th>3</th>\n",
       "      <td>86754880</td>\n",
       "      <td>4838580</td>\n",
       "      <td>ia</td>\n",
       "      <td>12</td>\n",
       "      <td>14</td>\n",
       "      <td>circles by sabaton</td>\n",
       "      <td>local</td>\n",
       "      <td>2018-09-30 08:05:16+00:00</td>\n",
       "      <td>1.80</td>\n",
       "      <td>28994</td>\n",
       "      <td>42</td>\n",
       "      <td>292</td>\n",
       "      <td>223</td>\n",
       "      <td>[]</td>\n",
       "      <td>Animals &amp; Pets</td>\n",
       "      <td>https://coubsecure-s.akamaihd.net/get/b6/p/cou...</td>\n",
       "      <td>[circles, sabaton]</td>\n",
       "    </tr>\n",
       "    <tr>\n",
       "      <th>4</th>\n",
       "      <td>86806583</td>\n",
       "      <td>124569</td>\n",
       "      <td>Anton Vanushin</td>\n",
       "      <td>223</td>\n",
       "      <td>9</td>\n",
       "      <td>moskoy cat in army now</td>\n",
       "      <td>UrlDownload</td>\n",
       "      <td>2018-09-30 18:31:19+00:00</td>\n",
       "      <td>9.88</td>\n",
       "      <td>41693</td>\n",
       "      <td>45</td>\n",
       "      <td>380</td>\n",
       "      <td>634</td>\n",
       "      <td>[cat, army]</td>\n",
       "      <td>Animals &amp; Pets</td>\n",
       "      <td>https://coubsecure-s.akamaihd.net/get/b7/p/cou...</td>\n",
       "      <td>[cat, army]</td>\n",
       "    </tr>\n",
       "  </tbody>\n",
       "</table>\n",
       "</div>"
      ],
      "text/plain": [
       "         id  channel_id         channel_title  channel_followers_count  \\\n",
       "0  80296774     4631772  Akhmedzhanova Olesya                        6   \n",
       "1  84097236     4150504           CoubPatrick                       73   \n",
       "2  85799090      438309           Zubor Zalán                      211   \n",
       "3  86754880     4838580                    ia                       12   \n",
       "4  86806583      124569        Anton Vanushin                      223   \n",
       "\n",
       "   channel_following_count                   title external_download  \\\n",
       "0                       11                     cat             local   \n",
       "1                        1     What does a fox say           YouTube   \n",
       "2                       98           Ride the worm             local   \n",
       "3                       14      circles by sabaton             local   \n",
       "4                        9  moskoy cat in army now       UrlDownload   \n",
       "\n",
       "                 created_at  duration  views_count  recoubs_count  \\\n",
       "0 2018-07-21 16:46:19+00:00      8.04        26221             19   \n",
       "1 2018-09-02 07:53:33+00:00      9.44        55484            105   \n",
       "2 2018-09-20 11:53:08+00:00     10.00        55368            153   \n",
       "3 2018-09-30 08:05:16+00:00      1.80        28994             42   \n",
       "4 2018-09-30 18:31:19+00:00      9.88        41693             45   \n",
       "\n",
       "   likes_count  dislikes_count  \\\n",
       "0          175             103   \n",
       "1          657             177   \n",
       "2          729             411   \n",
       "3          292             223   \n",
       "4          380             634   \n",
       "\n",
       "                                             tags  category_title  \\\n",
       "0                                              []  Animals & Pets   \n",
       "1                                              []  Animals & Pets   \n",
       "2  [dune, worm, riding, soliders, worms, ferrari]  Animals & Pets   \n",
       "3                                              []  Animals & Pets   \n",
       "4                                     [cat, army]  Animals & Pets   \n",
       "\n",
       "                                             url_big  \\\n",
       "0  https://coubsecure-s.akamaihd.net/get/b198/p/c...   \n",
       "1  https://coubsecure-s.akamaihd.net/get/b110/p/c...   \n",
       "2  https://coubsecure-s.akamaihd.net/get/b87/p/co...   \n",
       "3  https://coubsecure-s.akamaihd.net/get/b6/p/cou...   \n",
       "4  https://coubsecure-s.akamaihd.net/get/b7/p/cou...   \n",
       "\n",
       "                                       fixed_tags  \n",
       "0                                           [cat]  \n",
       "1                                [what, fox, say]  \n",
       "2  [dune, worm, riding, soliders, worms, ferrari]  \n",
       "3                              [circles, sabaton]  \n",
       "4                                     [cat, army]  "
      ]
     },
     "execution_count": 42,
     "metadata": {},
     "output_type": "execute_result"
    }
   ],
   "source": [
    "category_data.head()"
   ]
  },
  {
   "cell_type": "code",
   "execution_count": 43,
   "metadata": {
    "ExecuteTime": {
     "end_time": "2020-10-29T20:02:46.383724Z",
     "start_time": "2020-10-29T20:02:42.108868Z"
    }
   },
   "outputs": [],
   "source": [
    "# to account for numeric statistics on reposts, likes and dislikes, we categorize them and will add to Tf-IDF vectorizer as columns\n",
    "\n",
    "category_data['recoubs_count_cat'] = category_data['recoubs_count'].apply(lambda x: 'low' if x < category_data['recoubs_count'].quantile(0.5)\n",
    "                                           else 'middle' if x >= category_data['recoubs_count'].quantile(0.5) and x < category_data['recoubs_count'].quantile(0.75)\n",
    "                                           else 'high')\n",
    "\n",
    "category_data['likes_count_cat'] = category_data['likes_count'].apply(lambda x: 'low' if x < category_data['likes_count'].quantile(0.5)\n",
    "                                           else 'middle' if x >= category_data['likes_count'].quantile(0.5) and x < category_data['likes_count'].quantile(0.75)\n",
    "                                           else 'high')\n",
    "\n",
    "category_data['dislikes_count_cat'] = category_data['dislikes_count'].apply(lambda x: 'low' if x < category_data['dislikes_count'].quantile(0.5)\n",
    "                                           else 'middle' if x >= category_data['dislikes_count'].quantile(0.5) and x < category_data['dislikes_count'].quantile(0.75)\n",
    "                                           else 'high')"
   ]
  },
  {
   "cell_type": "code",
   "execution_count": 44,
   "metadata": {
    "ExecuteTime": {
     "end_time": "2020-10-29T20:02:46.387904Z",
     "start_time": "2020-10-29T20:02:46.385357Z"
    }
   },
   "outputs": [],
   "source": [
    "import pandas as pd\n",
    "from sklearn.feature_extraction.text import TfidfVectorizer\n",
    "from sklearn.metrics.pairwise import linear_kernel "
   ]
  },
  {
   "cell_type": "code",
   "execution_count": 45,
   "metadata": {
    "ExecuteTime": {
     "end_time": "2020-10-29T20:02:46.391488Z",
     "start_time": "2020-10-29T20:02:46.389381Z"
    }
   },
   "outputs": [],
   "source": [
    "from nltk.stem.wordnet import WordNetLemmatizer\n",
    "lemmatizer = WordNetLemmatizer()\n"
   ]
  },
  {
   "cell_type": "code",
   "execution_count": 46,
   "metadata": {
    "ExecuteTime": {
     "end_time": "2020-10-29T20:02:47.798840Z",
     "start_time": "2020-10-29T20:02:46.392983Z"
    }
   },
   "outputs": [],
   "source": [
    "# Vectorize selected columns, but before that lementize the words. \n",
    "\n",
    "tf = TfidfVectorizer(analyzer='word', ngram_range=(1, 3), min_df=0, stop_words='english')\n",
    "tfidf_matrix = tf.fit_transform(category_data[['title',\n",
    "                                               'fixed_tags',\n",
    "                                               'recoubs_count_cat',\n",
    "                                               'likes_count_cat', \n",
    "                                               'dislikes_count_cat']].apply(lambda x: ' '.join([x[0],' '.join(x[1])]), axis=1).apply(lemmatizer.lemmatize))\n"
   ]
  },
  {
   "cell_type": "markdown",
   "metadata": {
    "ExecuteTime": {
     "end_time": "2020-10-27T17:21:12.302528Z",
     "start_time": "2020-10-27T17:21:12.299960Z"
    }
   },
   "source": [
    "#### Getting recommendations"
   ]
  },
  {
   "cell_type": "code",
   "execution_count": 47,
   "metadata": {
    "ExecuteTime": {
     "end_time": "2020-10-29T20:02:47.813619Z",
     "start_time": "2020-10-29T20:02:47.800330Z"
    }
   },
   "outputs": [],
   "source": [
    "# Compute the cosine similarity matrix\n",
    "cosine_sim = linear_kernel(tfidf_matrix, tfidf_matrix)\n",
    "\n",
    "#Construct a reverse map of indices and video ids\n",
    "indices = pd.Series(category_data.index, index=category_data['id'])\n",
    "\n",
    "\n",
    "# Function that takes in video id as input and outputs most similar videos\n",
    "def get_recommendations(id, cosine_sim=cosine_sim, df=category_data, return_sim_links=False):\n",
    "    \n",
    "    \n",
    "    # Get the index of the video that matches the id\n",
    "    idx = indices[id]\n",
    "\n",
    "    # Get the pairwsie similarity scores of all videos with that video\n",
    "    sim_scores = list(enumerate(cosine_sim[idx]))\n",
    "\n",
    "    # Sort the videos based on the similarity scores\n",
    "    sim_scores = sorted(sim_scores, key=lambda x: x[1], reverse=True)\n",
    "\n",
    "    # Get the scores of the 5 most similar videos\n",
    "    sim_scores = sim_scores[1:6]\n",
    "\n",
    "    # Get the video indices\n",
    "    video_indices = [i[0] for i in sim_scores]\n",
    "\n",
    "    # Return the top 5 most similar videos\n",
    "\n",
    "    res = df.iloc[video_indices].copy()\n",
    "    \n",
    "    # If True, returns dataframe with details of the selection choice, otherwise only indices and names of similar videos\n",
    "    if return_sim_links:\n",
    "        res['sim_score'] = [i[1] for i in sim_scores]\n",
    "        res = res[['id','title','sim_score','url_big']]\n",
    "    else:\n",
    "        res = res['title'].loc[video_indices]\n",
    "    \n",
    "    return res"
   ]
  },
  {
   "cell_type": "code",
   "execution_count": 48,
   "metadata": {
    "ExecuteTime": {
     "end_time": "2020-10-29T20:02:47.836268Z",
     "start_time": "2020-10-29T20:02:47.814916Z"
    },
    "scrolled": true
   },
   "outputs": [
    {
     "data": {
      "text/html": [
       "<div>\n",
       "<style scoped>\n",
       "    .dataframe tbody tr th:only-of-type {\n",
       "        vertical-align: middle;\n",
       "    }\n",
       "\n",
       "    .dataframe tbody tr th {\n",
       "        vertical-align: top;\n",
       "    }\n",
       "\n",
       "    .dataframe thead th {\n",
       "        text-align: right;\n",
       "    }\n",
       "</style>\n",
       "<table border=\"1\" class=\"dataframe\">\n",
       "  <thead>\n",
       "    <tr style=\"text-align: right;\">\n",
       "      <th></th>\n",
       "      <th>id</th>\n",
       "      <th>channel_id</th>\n",
       "      <th>channel_title</th>\n",
       "      <th>channel_followers_count</th>\n",
       "      <th>channel_following_count</th>\n",
       "      <th>title</th>\n",
       "      <th>external_download</th>\n",
       "      <th>created_at</th>\n",
       "      <th>duration</th>\n",
       "      <th>views_count</th>\n",
       "      <th>recoubs_count</th>\n",
       "      <th>likes_count</th>\n",
       "      <th>dislikes_count</th>\n",
       "      <th>tags</th>\n",
       "      <th>category_title</th>\n",
       "      <th>url_big</th>\n",
       "      <th>fixed_tags</th>\n",
       "      <th>recoubs_count_cat</th>\n",
       "      <th>likes_count_cat</th>\n",
       "      <th>dislikes_count_cat</th>\n",
       "    </tr>\n",
       "  </thead>\n",
       "  <tbody>\n",
       "    <tr>\n",
       "      <th>0</th>\n",
       "      <td>80296774</td>\n",
       "      <td>4631772</td>\n",
       "      <td>Akhmedzhanova Olesya</td>\n",
       "      <td>6</td>\n",
       "      <td>11</td>\n",
       "      <td>cat</td>\n",
       "      <td>local</td>\n",
       "      <td>2018-07-21 16:46:19+00:00</td>\n",
       "      <td>8.04</td>\n",
       "      <td>26221</td>\n",
       "      <td>19</td>\n",
       "      <td>175</td>\n",
       "      <td>103</td>\n",
       "      <td>[]</td>\n",
       "      <td>Animals &amp; Pets</td>\n",
       "      <td>https://coubsecure-s.akamaihd.net/get/b198/p/c...</td>\n",
       "      <td>[cat]</td>\n",
       "      <td>low</td>\n",
       "      <td>low</td>\n",
       "      <td>low</td>\n",
       "    </tr>\n",
       "    <tr>\n",
       "      <th>1</th>\n",
       "      <td>84097236</td>\n",
       "      <td>4150504</td>\n",
       "      <td>CoubPatrick</td>\n",
       "      <td>73</td>\n",
       "      <td>1</td>\n",
       "      <td>What does a fox say</td>\n",
       "      <td>YouTube</td>\n",
       "      <td>2018-09-02 07:53:33+00:00</td>\n",
       "      <td>9.44</td>\n",
       "      <td>55484</td>\n",
       "      <td>105</td>\n",
       "      <td>657</td>\n",
       "      <td>177</td>\n",
       "      <td>[]</td>\n",
       "      <td>Animals &amp; Pets</td>\n",
       "      <td>https://coubsecure-s.akamaihd.net/get/b110/p/c...</td>\n",
       "      <td>[what, fox, say]</td>\n",
       "      <td>middle</td>\n",
       "      <td>middle</td>\n",
       "      <td>low</td>\n",
       "    </tr>\n",
       "    <tr>\n",
       "      <th>2</th>\n",
       "      <td>85799090</td>\n",
       "      <td>438309</td>\n",
       "      <td>Zubor Zalán</td>\n",
       "      <td>211</td>\n",
       "      <td>98</td>\n",
       "      <td>Ride the worm</td>\n",
       "      <td>local</td>\n",
       "      <td>2018-09-20 11:53:08+00:00</td>\n",
       "      <td>10.00</td>\n",
       "      <td>55368</td>\n",
       "      <td>153</td>\n",
       "      <td>729</td>\n",
       "      <td>411</td>\n",
       "      <td>[dune, worm, riding, soliders, worms, ferrari]</td>\n",
       "      <td>Animals &amp; Pets</td>\n",
       "      <td>https://coubsecure-s.akamaihd.net/get/b87/p/co...</td>\n",
       "      <td>[dune, worm, riding, soliders, worms, ferrari]</td>\n",
       "      <td>high</td>\n",
       "      <td>high</td>\n",
       "      <td>middle</td>\n",
       "    </tr>\n",
       "    <tr>\n",
       "      <th>3</th>\n",
       "      <td>86754880</td>\n",
       "      <td>4838580</td>\n",
       "      <td>ia</td>\n",
       "      <td>12</td>\n",
       "      <td>14</td>\n",
       "      <td>circles by sabaton</td>\n",
       "      <td>local</td>\n",
       "      <td>2018-09-30 08:05:16+00:00</td>\n",
       "      <td>1.80</td>\n",
       "      <td>28994</td>\n",
       "      <td>42</td>\n",
       "      <td>292</td>\n",
       "      <td>223</td>\n",
       "      <td>[]</td>\n",
       "      <td>Animals &amp; Pets</td>\n",
       "      <td>https://coubsecure-s.akamaihd.net/get/b6/p/cou...</td>\n",
       "      <td>[circles, sabaton]</td>\n",
       "      <td>low</td>\n",
       "      <td>low</td>\n",
       "      <td>low</td>\n",
       "    </tr>\n",
       "    <tr>\n",
       "      <th>4</th>\n",
       "      <td>86806583</td>\n",
       "      <td>124569</td>\n",
       "      <td>Anton Vanushin</td>\n",
       "      <td>223</td>\n",
       "      <td>9</td>\n",
       "      <td>moskoy cat in army now</td>\n",
       "      <td>UrlDownload</td>\n",
       "      <td>2018-09-30 18:31:19+00:00</td>\n",
       "      <td>9.88</td>\n",
       "      <td>41693</td>\n",
       "      <td>45</td>\n",
       "      <td>380</td>\n",
       "      <td>634</td>\n",
       "      <td>[cat, army]</td>\n",
       "      <td>Animals &amp; Pets</td>\n",
       "      <td>https://coubsecure-s.akamaihd.net/get/b7/p/cou...</td>\n",
       "      <td>[cat, army]</td>\n",
       "      <td>low</td>\n",
       "      <td>low</td>\n",
       "      <td>high</td>\n",
       "    </tr>\n",
       "  </tbody>\n",
       "</table>\n",
       "</div>"
      ],
      "text/plain": [
       "         id  channel_id         channel_title  channel_followers_count  \\\n",
       "0  80296774     4631772  Akhmedzhanova Olesya                        6   \n",
       "1  84097236     4150504           CoubPatrick                       73   \n",
       "2  85799090      438309           Zubor Zalán                      211   \n",
       "3  86754880     4838580                    ia                       12   \n",
       "4  86806583      124569        Anton Vanushin                      223   \n",
       "\n",
       "   channel_following_count                   title external_download  \\\n",
       "0                       11                     cat             local   \n",
       "1                        1     What does a fox say           YouTube   \n",
       "2                       98           Ride the worm             local   \n",
       "3                       14      circles by sabaton             local   \n",
       "4                        9  moskoy cat in army now       UrlDownload   \n",
       "\n",
       "                 created_at  duration  views_count  recoubs_count  \\\n",
       "0 2018-07-21 16:46:19+00:00      8.04        26221             19   \n",
       "1 2018-09-02 07:53:33+00:00      9.44        55484            105   \n",
       "2 2018-09-20 11:53:08+00:00     10.00        55368            153   \n",
       "3 2018-09-30 08:05:16+00:00      1.80        28994             42   \n",
       "4 2018-09-30 18:31:19+00:00      9.88        41693             45   \n",
       "\n",
       "   likes_count  dislikes_count  \\\n",
       "0          175             103   \n",
       "1          657             177   \n",
       "2          729             411   \n",
       "3          292             223   \n",
       "4          380             634   \n",
       "\n",
       "                                             tags  category_title  \\\n",
       "0                                              []  Animals & Pets   \n",
       "1                                              []  Animals & Pets   \n",
       "2  [dune, worm, riding, soliders, worms, ferrari]  Animals & Pets   \n",
       "3                                              []  Animals & Pets   \n",
       "4                                     [cat, army]  Animals & Pets   \n",
       "\n",
       "                                             url_big  \\\n",
       "0  https://coubsecure-s.akamaihd.net/get/b198/p/c...   \n",
       "1  https://coubsecure-s.akamaihd.net/get/b110/p/c...   \n",
       "2  https://coubsecure-s.akamaihd.net/get/b87/p/co...   \n",
       "3  https://coubsecure-s.akamaihd.net/get/b6/p/cou...   \n",
       "4  https://coubsecure-s.akamaihd.net/get/b7/p/cou...   \n",
       "\n",
       "                                       fixed_tags recoubs_count_cat  \\\n",
       "0                                           [cat]               low   \n",
       "1                                [what, fox, say]            middle   \n",
       "2  [dune, worm, riding, soliders, worms, ferrari]              high   \n",
       "3                              [circles, sabaton]               low   \n",
       "4                                     [cat, army]               low   \n",
       "\n",
       "  likes_count_cat dislikes_count_cat  \n",
       "0             low                low  \n",
       "1          middle                low  \n",
       "2            high             middle  \n",
       "3             low                low  \n",
       "4             low               high  "
      ]
     },
     "execution_count": 48,
     "metadata": {},
     "output_type": "execute_result"
    }
   ],
   "source": [
    "category_data.head(5)"
   ]
  },
  {
   "cell_type": "code",
   "execution_count": 49,
   "metadata": {
    "ExecuteTime": {
     "end_time": "2020-10-29T20:02:47.843715Z",
     "start_time": "2020-10-29T20:02:47.838273Z"
    }
   },
   "outputs": [
    {
     "data": {
      "text/plain": [
       "'https://coubsecure-s.akamaihd.net/get/b110/p/coub/simple/cw_file/1cf4123d4c5/479665458aafe73e01565/muted_mp4_big_size_1598062840_muted_big.mp4'"
      ]
     },
     "execution_count": 49,
     "metadata": {},
     "output_type": "execute_result"
    }
   ],
   "source": [
    "\n",
    "category_data[category_data.id==84097236].url_big.values[0]"
   ]
  },
  {
   "cell_type": "code",
   "execution_count": 50,
   "metadata": {
    "ExecuteTime": {
     "end_time": "2020-10-29T20:02:47.857950Z",
     "start_time": "2020-10-29T20:02:47.846131Z"
    }
   },
   "outputs": [
    {
     "data": {
      "text/html": [
       "<div>\n",
       "<style scoped>\n",
       "    .dataframe tbody tr th:only-of-type {\n",
       "        vertical-align: middle;\n",
       "    }\n",
       "\n",
       "    .dataframe tbody tr th {\n",
       "        vertical-align: top;\n",
       "    }\n",
       "\n",
       "    .dataframe thead th {\n",
       "        text-align: right;\n",
       "    }\n",
       "</style>\n",
       "<table border=\"1\" class=\"dataframe\">\n",
       "  <thead>\n",
       "    <tr style=\"text-align: right;\">\n",
       "      <th></th>\n",
       "      <th>id</th>\n",
       "      <th>title</th>\n",
       "      <th>sim_score</th>\n",
       "      <th>url_big</th>\n",
       "    </tr>\n",
       "  </thead>\n",
       "  <tbody>\n",
       "    <tr>\n",
       "      <th>119</th>\n",
       "      <td>129429943</td>\n",
       "      <td>what does this fox say</td>\n",
       "      <td>0.318801</td>\n",
       "      <td>https://coubsecure-s.akamaihd.net/get/b43/p/co...</td>\n",
       "    </tr>\n",
       "    <tr>\n",
       "      <th>977</th>\n",
       "      <td>155221147</td>\n",
       "      <td>Fox Story</td>\n",
       "      <td>0.250004</td>\n",
       "      <td>https://coubsecure-s.akamaihd.net/get/b137/p/c...</td>\n",
       "    </tr>\n",
       "    <tr>\n",
       "      <th>108</th>\n",
       "      <td>124770106</td>\n",
       "      <td>What does the fox say</td>\n",
       "      <td>0.224960</td>\n",
       "      <td>https://coubsecure-s.akamaihd.net/get/b85/p/co...</td>\n",
       "    </tr>\n",
       "    <tr>\n",
       "      <th>811</th>\n",
       "      <td>153796957</td>\n",
       "      <td>Say Cat Again</td>\n",
       "      <td>0.181889</td>\n",
       "      <td>https://coubsecure-s.akamaihd.net/get/b95/p/co...</td>\n",
       "    </tr>\n",
       "    <tr>\n",
       "      <th>397</th>\n",
       "      <td>150512648</td>\n",
       "      <td>Funny Coffee</td>\n",
       "      <td>0.173965</td>\n",
       "      <td>https://coubsecure-s.akamaihd.net/get/b127/p/c...</td>\n",
       "    </tr>\n",
       "  </tbody>\n",
       "</table>\n",
       "</div>"
      ],
      "text/plain": [
       "            id                   title  sim_score  \\\n",
       "119  129429943  what does this fox say   0.318801   \n",
       "977  155221147               Fox Story   0.250004   \n",
       "108  124770106   What does the fox say   0.224960   \n",
       "811  153796957           Say Cat Again   0.181889   \n",
       "397  150512648            Funny Coffee   0.173965   \n",
       "\n",
       "                                               url_big  \n",
       "119  https://coubsecure-s.akamaihd.net/get/b43/p/co...  \n",
       "977  https://coubsecure-s.akamaihd.net/get/b137/p/c...  \n",
       "108  https://coubsecure-s.akamaihd.net/get/b85/p/co...  \n",
       "811  https://coubsecure-s.akamaihd.net/get/b95/p/co...  \n",
       "397  https://coubsecure-s.akamaihd.net/get/b127/p/c...  "
      ]
     },
     "execution_count": 50,
     "metadata": {},
     "output_type": "execute_result"
    }
   ],
   "source": [
    "get_recommendations(84097236, return_sim_links=True)"
   ]
  },
  {
   "cell_type": "code",
   "execution_count": 51,
   "metadata": {
    "ExecuteTime": {
     "end_time": "2020-10-29T20:02:47.866726Z",
     "start_time": "2020-10-29T20:02:47.859814Z"
    }
   },
   "outputs": [
    {
     "data": {
      "text/plain": [
       "array(['https://coubsecure-s.akamaihd.net/get/b43/p/coub/simple/cw_file/ef726b99fbd/9b249038657137d9107c5/muted_mp4_big_size_1574260035_muted_big.mp4',\n",
       "       'https://coubsecure-s.akamaihd.net/get/b137/p/coub/simple/cw_file/81ef4b2ea02/69b5fec3c2396a2b89d82/muted_mp4_big_size_1601933971_muted_big.mp4',\n",
       "       'https://coubsecure-s.akamaihd.net/get/b85/p/coub/simple/cw_file/a4634f4160c/d32eec2738d1c7aaabcbe/muted_mp4_big_size_1569581990_muted_big.mp4',\n",
       "       'https://coubsecure-s.akamaihd.net/get/b95/p/coub/simple/cw_file/e54e2421db0/6d906bfe303883439fc46/muted_mp4_big_size_1600039057_muted_big.mp4',\n",
       "       'https://coubsecure-s.akamaihd.net/get/b127/p/coub/simple/cw_file/6c5350bcea0/a955067e95417d35ff5d9/muted_mp4_big_size_1599499554_muted_big.mp4'],\n",
       "      dtype=object)"
      ]
     },
     "execution_count": 51,
     "metadata": {},
     "output_type": "execute_result"
    }
   ],
   "source": [
    "# if you want to check out visually what the recommender output, just open the links\n",
    "get_recommendations(84097236, return_sim_links=True).url_big.values"
   ]
  },
  {
   "cell_type": "markdown",
   "metadata": {},
   "source": [
    "#### Subsection results"
   ]
  },
  {
   "cell_type": "markdown",
   "metadata": {},
   "source": [
    "\n",
    "So now we have created item-to-item recommender, that suggests top-5 most similar items based on the text metadata and encoded categories from reposts, likes and dislikes. It performs pretty well, and is not that much history related to the chaning preferences of the user.\n",
    "\n",
    "Yet this is also one of the drawbacks of model, since it gives same results to all users and does not include previous history of the user. To accomodate this and fix the personalization issue, let's make one step further and select videos from the *Aninamls-Pets* category only which have been watched and reacted upon by the specific user.\n",
    "\n",
    "To do it, we simply need to filter out user history to the top-5 (for example) most recent reacted upon videos and suggest top-5 most similar videos by selecting top 1 video per selected input video id that the user recently reacted upon."
   ]
  },
  {
   "cell_type": "markdown",
   "metadata": {},
   "source": [
    "### Hybrid approach to account for user historical data"
   ]
  },
  {
   "cell_type": "code",
   "execution_count": 52,
   "metadata": {
    "ExecuteTime": {
     "end_time": "2020-10-29T20:02:48.593861Z",
     "start_time": "2020-10-29T20:02:47.871685Z"
    }
   },
   "outputs": [
    {
     "data": {
      "text/html": [
       "<div>\n",
       "<style scoped>\n",
       "    .dataframe tbody tr th:only-of-type {\n",
       "        vertical-align: middle;\n",
       "    }\n",
       "\n",
       "    .dataframe tbody tr th {\n",
       "        vertical-align: top;\n",
       "    }\n",
       "\n",
       "    .dataframe thead th {\n",
       "        text-align: right;\n",
       "    }\n",
       "</style>\n",
       "<table border=\"1\" class=\"dataframe\">\n",
       "  <thead>\n",
       "    <tr style=\"text-align: right;\">\n",
       "      <th></th>\n",
       "      <th>coub_id</th>\n",
       "      <th>user_id</th>\n",
       "      <th>user_name</th>\n",
       "      <th>user_followers_count</th>\n",
       "      <th>user_following_count</th>\n",
       "      <th>reaction_type</th>\n",
       "      <th>title</th>\n",
       "      <th>created_at</th>\n",
       "      <th>duration</th>\n",
       "      <th>tags</th>\n",
       "      <th>views_count</th>\n",
       "      <th>recoubs_count</th>\n",
       "      <th>likes_count</th>\n",
       "      <th>dislikes_count</th>\n",
       "      <th>category_title</th>\n",
       "      <th>url_big</th>\n",
       "      <th>fixed_tags</th>\n",
       "      <th>recoubs_count_cat</th>\n",
       "      <th>likes_count_cat</th>\n",
       "      <th>dislikes_count_cat</th>\n",
       "    </tr>\n",
       "  </thead>\n",
       "  <tbody>\n",
       "    <tr>\n",
       "      <th>0</th>\n",
       "      <td>80296774</td>\n",
       "      <td>4798352</td>\n",
       "      <td>Tefomand76191</td>\n",
       "      <td>16</td>\n",
       "      <td>2679</td>\n",
       "      <td>like</td>\n",
       "      <td>cat</td>\n",
       "      <td>2018-07-21 16:46:19+00:00</td>\n",
       "      <td>8.04</td>\n",
       "      <td>[]</td>\n",
       "      <td>26221</td>\n",
       "      <td>19</td>\n",
       "      <td>175</td>\n",
       "      <td>103</td>\n",
       "      <td>Animals &amp; Pets</td>\n",
       "      <td>https://coubsecure-s.akamaihd.net/get/b198/p/c...</td>\n",
       "      <td>[cat]</td>\n",
       "      <td>low</td>\n",
       "      <td>low</td>\n",
       "      <td>low</td>\n",
       "    </tr>\n",
       "    <tr>\n",
       "      <th>1</th>\n",
       "      <td>80296774</td>\n",
       "      <td>4743899</td>\n",
       "      <td>Hygienis</td>\n",
       "      <td>47</td>\n",
       "      <td>4995</td>\n",
       "      <td>like</td>\n",
       "      <td>cat</td>\n",
       "      <td>2018-07-21 16:46:19+00:00</td>\n",
       "      <td>8.04</td>\n",
       "      <td>[]</td>\n",
       "      <td>26221</td>\n",
       "      <td>19</td>\n",
       "      <td>175</td>\n",
       "      <td>103</td>\n",
       "      <td>Animals &amp; Pets</td>\n",
       "      <td>https://coubsecure-s.akamaihd.net/get/b198/p/c...</td>\n",
       "      <td>[cat]</td>\n",
       "      <td>low</td>\n",
       "      <td>low</td>\n",
       "      <td>low</td>\n",
       "    </tr>\n",
       "    <tr>\n",
       "      <th>2</th>\n",
       "      <td>80296774</td>\n",
       "      <td>2994814</td>\n",
       "      <td>Pakyto</td>\n",
       "      <td>19</td>\n",
       "      <td>1755</td>\n",
       "      <td>like</td>\n",
       "      <td>cat</td>\n",
       "      <td>2018-07-21 16:46:19+00:00</td>\n",
       "      <td>8.04</td>\n",
       "      <td>[]</td>\n",
       "      <td>26221</td>\n",
       "      <td>19</td>\n",
       "      <td>175</td>\n",
       "      <td>103</td>\n",
       "      <td>Animals &amp; Pets</td>\n",
       "      <td>https://coubsecure-s.akamaihd.net/get/b198/p/c...</td>\n",
       "      <td>[cat]</td>\n",
       "      <td>low</td>\n",
       "      <td>low</td>\n",
       "      <td>low</td>\n",
       "    </tr>\n",
       "    <tr>\n",
       "      <th>3</th>\n",
       "      <td>80296774</td>\n",
       "      <td>4112500</td>\n",
       "      <td>Coes56603</td>\n",
       "      <td>7</td>\n",
       "      <td>12</td>\n",
       "      <td>like</td>\n",
       "      <td>cat</td>\n",
       "      <td>2018-07-21 16:46:19+00:00</td>\n",
       "      <td>8.04</td>\n",
       "      <td>[]</td>\n",
       "      <td>26221</td>\n",
       "      <td>19</td>\n",
       "      <td>175</td>\n",
       "      <td>103</td>\n",
       "      <td>Animals &amp; Pets</td>\n",
       "      <td>https://coubsecure-s.akamaihd.net/get/b198/p/c...</td>\n",
       "      <td>[cat]</td>\n",
       "      <td>low</td>\n",
       "      <td>low</td>\n",
       "      <td>low</td>\n",
       "    </tr>\n",
       "    <tr>\n",
       "      <th>4</th>\n",
       "      <td>80296774</td>\n",
       "      <td>682291</td>\n",
       "      <td>vova</td>\n",
       "      <td>25</td>\n",
       "      <td>3480</td>\n",
       "      <td>like</td>\n",
       "      <td>cat</td>\n",
       "      <td>2018-07-21 16:46:19+00:00</td>\n",
       "      <td>8.04</td>\n",
       "      <td>[]</td>\n",
       "      <td>26221</td>\n",
       "      <td>19</td>\n",
       "      <td>175</td>\n",
       "      <td>103</td>\n",
       "      <td>Animals &amp; Pets</td>\n",
       "      <td>https://coubsecure-s.akamaihd.net/get/b198/p/c...</td>\n",
       "      <td>[cat]</td>\n",
       "      <td>low</td>\n",
       "      <td>low</td>\n",
       "      <td>low</td>\n",
       "    </tr>\n",
       "  </tbody>\n",
       "</table>\n",
       "</div>"
      ],
      "text/plain": [
       "    coub_id  user_id      user_name  user_followers_count  \\\n",
       "0  80296774  4798352  Tefomand76191                    16   \n",
       "1  80296774  4743899       Hygienis                    47   \n",
       "2  80296774  2994814         Pakyto                    19   \n",
       "3  80296774  4112500      Coes56603                     7   \n",
       "4  80296774   682291           vova                    25   \n",
       "\n",
       "   user_following_count reaction_type title                created_at  \\\n",
       "0                  2679          like   cat 2018-07-21 16:46:19+00:00   \n",
       "1                  4995          like   cat 2018-07-21 16:46:19+00:00   \n",
       "2                  1755          like   cat 2018-07-21 16:46:19+00:00   \n",
       "3                    12          like   cat 2018-07-21 16:46:19+00:00   \n",
       "4                  3480          like   cat 2018-07-21 16:46:19+00:00   \n",
       "\n",
       "   duration tags  views_count  recoubs_count  likes_count  dislikes_count  \\\n",
       "0      8.04   []        26221             19          175             103   \n",
       "1      8.04   []        26221             19          175             103   \n",
       "2      8.04   []        26221             19          175             103   \n",
       "3      8.04   []        26221             19          175             103   \n",
       "4      8.04   []        26221             19          175             103   \n",
       "\n",
       "   category_title                                            url_big  \\\n",
       "0  Animals & Pets  https://coubsecure-s.akamaihd.net/get/b198/p/c...   \n",
       "1  Animals & Pets  https://coubsecure-s.akamaihd.net/get/b198/p/c...   \n",
       "2  Animals & Pets  https://coubsecure-s.akamaihd.net/get/b198/p/c...   \n",
       "3  Animals & Pets  https://coubsecure-s.akamaihd.net/get/b198/p/c...   \n",
       "4  Animals & Pets  https://coubsecure-s.akamaihd.net/get/b198/p/c...   \n",
       "\n",
       "  fixed_tags recoubs_count_cat likes_count_cat dislikes_count_cat  \n",
       "0      [cat]               low             low                low  \n",
       "1      [cat]               low             low                low  \n",
       "2      [cat]               low             low                low  \n",
       "3      [cat]               low             low                low  \n",
       "4      [cat]               low             low                low  "
      ]
     },
     "execution_count": 52,
     "metadata": {},
     "output_type": "execute_result"
    }
   ],
   "source": [
    "selected_cols = ['id', 'title', 'created_at',\n",
    "                 'duration', 'tags', \n",
    "                 'views_count','recoubs_count','likes_count','dislikes_count', \n",
    "                 'category_title', 'url_big', 'fixed_tags', \n",
    "                 'recoubs_count_cat', 'likes_count_cat', 'dislikes_count_cat']\n",
    "\n",
    "\n",
    "user_history_animals = coub_reaction_user_list_df_all[coub_reaction_user_list_df_all.coub_id.isin(category_data.id)]\n",
    "user_history_animals = user_history_animals.merge(category_data[selected_cols], left_on='coub_id', right_on='id', how='left').drop('id',axis=1)\n",
    "user_history_animals.head()"
   ]
  },
  {
   "cell_type": "code",
   "execution_count": 53,
   "metadata": {
    "ExecuteTime": {
     "end_time": "2020-10-29T20:02:48.731979Z",
     "start_time": "2020-10-29T20:02:48.595248Z"
    }
   },
   "outputs": [
    {
     "data": {
      "image/png": "[encoded data removed]",
      "text/plain": [
       "<Figure size 432x288 with 1 Axes>"
      ]
     },
     "metadata": {
      "needs_background": "light"
     },
     "output_type": "display_data"
    }
   ],
   "source": [
    "user_history_animals.coub_id.value_counts().hist(bins=20);"
   ]
  },
  {
   "cell_type": "markdown",
   "metadata": {},
   "source": [
    "As seen the data is skewed, meaning the majority of videos are watched and/or reposted not more often than 1000 times, while some very few have become extremely popular. Which makes sense."
   ]
  },
  {
   "cell_type": "code",
   "execution_count": 54,
   "metadata": {
    "ExecuteTime": {
     "end_time": "2020-10-29T20:02:48.752421Z",
     "start_time": "2020-10-29T20:02:48.734001Z"
    }
   },
   "outputs": [
    {
     "data": {
      "text/html": [
       "<div>\n",
       "<style scoped>\n",
       "    .dataframe tbody tr th:only-of-type {\n",
       "        vertical-align: middle;\n",
       "    }\n",
       "\n",
       "    .dataframe tbody tr th {\n",
       "        vertical-align: top;\n",
       "    }\n",
       "\n",
       "    .dataframe thead th {\n",
       "        text-align: right;\n",
       "    }\n",
       "</style>\n",
       "<table border=\"1\" class=\"dataframe\">\n",
       "  <thead>\n",
       "    <tr style=\"text-align: right;\">\n",
       "      <th></th>\n",
       "      <th>coub_id</th>\n",
       "      <th>user_id</th>\n",
       "      <th>user_name</th>\n",
       "      <th>user_followers_count</th>\n",
       "      <th>user_following_count</th>\n",
       "      <th>reaction_type</th>\n",
       "      <th>title</th>\n",
       "      <th>created_at</th>\n",
       "      <th>duration</th>\n",
       "      <th>tags</th>\n",
       "      <th>views_count</th>\n",
       "      <th>recoubs_count</th>\n",
       "      <th>likes_count</th>\n",
       "      <th>dislikes_count</th>\n",
       "      <th>category_title</th>\n",
       "      <th>url_big</th>\n",
       "      <th>fixed_tags</th>\n",
       "      <th>recoubs_count_cat</th>\n",
       "      <th>likes_count_cat</th>\n",
       "      <th>dislikes_count_cat</th>\n",
       "    </tr>\n",
       "  </thead>\n",
       "  <tbody>\n",
       "    <tr>\n",
       "      <th>0</th>\n",
       "      <td>80296774</td>\n",
       "      <td>4798352</td>\n",
       "      <td>Tefomand76191</td>\n",
       "      <td>16</td>\n",
       "      <td>2679</td>\n",
       "      <td>like</td>\n",
       "      <td>cat</td>\n",
       "      <td>2018-07-21 16:46:19+00:00</td>\n",
       "      <td>8.04</td>\n",
       "      <td>[]</td>\n",
       "      <td>26221</td>\n",
       "      <td>19</td>\n",
       "      <td>175</td>\n",
       "      <td>103</td>\n",
       "      <td>Animals &amp; Pets</td>\n",
       "      <td>https://coubsecure-s.akamaihd.net/get/b198/p/c...</td>\n",
       "      <td>[cat]</td>\n",
       "      <td>low</td>\n",
       "      <td>low</td>\n",
       "      <td>low</td>\n",
       "    </tr>\n",
       "    <tr>\n",
       "      <th>305477</th>\n",
       "      <td>151145903</td>\n",
       "      <td>4798352</td>\n",
       "      <td>Tefomand76191</td>\n",
       "      <td>16</td>\n",
       "      <td>2679</td>\n",
       "      <td>like</td>\n",
       "      <td>Fishing A Duck Lure For MONSTER Pike</td>\n",
       "      <td>2020-08-06 03:20:38+00:00</td>\n",
       "      <td>10.00</td>\n",
       "      <td>[predator, follow, suspense]</td>\n",
       "      <td>132853</td>\n",
       "      <td>299</td>\n",
       "      <td>1588</td>\n",
       "      <td>710</td>\n",
       "      <td>Animals &amp; Pets</td>\n",
       "      <td>https://coubsecure-s.akamaihd.net/get/b119/p/c...</td>\n",
       "      <td>[predator, follow, suspense]</td>\n",
       "      <td>high</td>\n",
       "      <td>high</td>\n",
       "      <td>high</td>\n",
       "    </tr>\n",
       "    <tr>\n",
       "      <th>551165</th>\n",
       "      <td>153238551</td>\n",
       "      <td>4798352</td>\n",
       "      <td>Tefomand76191</td>\n",
       "      <td>16</td>\n",
       "      <td>2679</td>\n",
       "      <td>like</td>\n",
       "      <td>Soft Power</td>\n",
       "      <td>2020-09-05 16:06:51+00:00</td>\n",
       "      <td>10.00</td>\n",
       "      <td>[dog power, dog, girl, sleep]</td>\n",
       "      <td>208981</td>\n",
       "      <td>723</td>\n",
       "      <td>3820</td>\n",
       "      <td>320</td>\n",
       "      <td>Animals &amp; Pets</td>\n",
       "      <td>https://coubsecure-s.akamaihd.net/get/b147/p/c...</td>\n",
       "      <td>[dog power, dog, girl, sleep]</td>\n",
       "      <td>high</td>\n",
       "      <td>high</td>\n",
       "      <td>low</td>\n",
       "    </tr>\n",
       "  </tbody>\n",
       "</table>\n",
       "</div>"
      ],
      "text/plain": [
       "          coub_id  user_id      user_name  user_followers_count  \\\n",
       "0        80296774  4798352  Tefomand76191                    16   \n",
       "305477  151145903  4798352  Tefomand76191                    16   \n",
       "551165  153238551  4798352  Tefomand76191                    16   \n",
       "\n",
       "        user_following_count reaction_type  \\\n",
       "0                       2679          like   \n",
       "305477                  2679          like   \n",
       "551165                  2679          like   \n",
       "\n",
       "                                       title                created_at  \\\n",
       "0                                        cat 2018-07-21 16:46:19+00:00   \n",
       "305477  Fishing A Duck Lure For MONSTER Pike 2020-08-06 03:20:38+00:00   \n",
       "551165                            Soft Power 2020-09-05 16:06:51+00:00   \n",
       "\n",
       "        duration                           tags  views_count  recoubs_count  \\\n",
       "0           8.04                             []        26221             19   \n",
       "305477     10.00   [predator, follow, suspense]       132853            299   \n",
       "551165     10.00  [dog power, dog, girl, sleep]       208981            723   \n",
       "\n",
       "        likes_count  dislikes_count  category_title  \\\n",
       "0               175             103  Animals & Pets   \n",
       "305477         1588             710  Animals & Pets   \n",
       "551165         3820             320  Animals & Pets   \n",
       "\n",
       "                                                  url_big  \\\n",
       "0       https://coubsecure-s.akamaihd.net/get/b198/p/c...   \n",
       "305477  https://coubsecure-s.akamaihd.net/get/b119/p/c...   \n",
       "551165  https://coubsecure-s.akamaihd.net/get/b147/p/c...   \n",
       "\n",
       "                           fixed_tags recoubs_count_cat likes_count_cat  \\\n",
       "0                               [cat]               low             low   \n",
       "305477   [predator, follow, suspense]              high            high   \n",
       "551165  [dog power, dog, girl, sleep]              high            high   \n",
       "\n",
       "       dislikes_count_cat  \n",
       "0                     low  \n",
       "305477               high  \n",
       "551165                low  "
      ]
     },
     "execution_count": 54,
     "metadata": {},
     "output_type": "execute_result"
    }
   ],
   "source": [
    "user_history_animals[user_history_animals.user_id==4798352]"
   ]
  },
  {
   "cell_type": "code",
   "execution_count": 55,
   "metadata": {
    "ExecuteTime": {
     "end_time": "2020-10-29T20:02:49.615350Z",
     "start_time": "2020-10-29T20:02:48.753993Z"
    }
   },
   "outputs": [
    {
     "name": "stderr",
     "output_type": "stream",
     "text": [
      "/Users/apall/opt/anaconda3/envs/open-mmlab/lib/python3.7/site-packages/pandas/core/arrays/datetimes.py:1104: UserWarning: Converting to PeriodArray/Index representation will drop timezone information.\n",
      "  UserWarning,\n"
     ]
    }
   ],
   "source": [
    "# create year-month column from created_at datetime column\n",
    "# sort values by year-month, reaction_type, views_count and likes_count, select up to 5 top videos per user\n",
    "# thus items with 'repost' reaction_type get preference over the same 'liked' ones abd thus have a better chance to get to the final suggestion result \n",
    "\n",
    "\n",
    "user_history_animals['created_at_date'] =  user_history_animals.created_at.dt.to_period('M')\n",
    "user_history_animals = user_history_animals.sort_values(['user_id',\n",
    "                                                         'reaction_type',\n",
    "                                                         'created_at_date',\n",
    "                                                         'views_count',\n",
    "                                                         'likes_count'],\n",
    "                                                        ascending = False).groupby(['user_id']).head(5)\n",
    "\n",
    "user_history_animals = user_history_animals.groupby(['coub_id','user_id','title']).head(1)"
   ]
  },
  {
   "cell_type": "code",
   "execution_count": 56,
   "metadata": {
    "ExecuteTime": {
     "end_time": "2020-10-29T20:02:50.921908Z",
     "start_time": "2020-10-29T20:02:49.617041Z"
    }
   },
   "outputs": [
    {
     "data": {
      "text/plain": [
       "1    36338\n",
       "5    26990\n",
       "2    16494\n",
       "3    10330\n",
       "4     7675\n",
       "Name: user_followers_count, dtype: int64"
      ]
     },
     "execution_count": 56,
     "metadata": {},
     "output_type": "execute_result"
    }
   ],
   "source": [
    "# see distribution of the number of videos per users\n",
    "user_history_animals.groupby('user_id').count()['user_followers_count'].sort_values(ascending=False).value_counts()\n"
   ]
  },
  {
   "cell_type": "code",
   "execution_count": 57,
   "metadata": {
    "ExecuteTime": {
     "end_time": "2020-10-29T20:02:52.235345Z",
     "start_time": "2020-10-29T20:02:50.923541Z"
    }
   },
   "outputs": [
    {
     "data": {
      "text/plain": [
       "user_id\n",
       "4152145    5\n",
       "2377757    5\n",
       "2377325    5\n",
       "5124702    5\n",
       "5124665    5\n",
       "Name: user_followers_count, dtype: int64"
      ]
     },
     "execution_count": 57,
     "metadata": {},
     "output_type": "execute_result"
    }
   ],
   "source": [
    "# sort out to select some user with 5 videos that are liked / reposted\n",
    "user_history_animals.groupby('user_id').count()['user_followers_count'].sort_values(ascending=False).head()\n",
    "\n"
   ]
  },
  {
   "cell_type": "code",
   "execution_count": 58,
   "metadata": {
    "ExecuteTime": {
     "end_time": "2020-10-29T20:02:52.264702Z",
     "start_time": "2020-10-29T20:02:52.237252Z"
    }
   },
   "outputs": [
    {
     "data": {
      "text/html": [
       "<div>\n",
       "<style scoped>\n",
       "    .dataframe tbody tr th:only-of-type {\n",
       "        vertical-align: middle;\n",
       "    }\n",
       "\n",
       "    .dataframe tbody tr th {\n",
       "        vertical-align: top;\n",
       "    }\n",
       "\n",
       "    .dataframe thead th {\n",
       "        text-align: right;\n",
       "    }\n",
       "</style>\n",
       "<table border=\"1\" class=\"dataframe\">\n",
       "  <thead>\n",
       "    <tr style=\"text-align: right;\">\n",
       "      <th></th>\n",
       "      <th>coub_id</th>\n",
       "      <th>user_id</th>\n",
       "      <th>user_name</th>\n",
       "      <th>user_followers_count</th>\n",
       "      <th>user_following_count</th>\n",
       "      <th>reaction_type</th>\n",
       "      <th>title</th>\n",
       "      <th>created_at</th>\n",
       "      <th>duration</th>\n",
       "      <th>tags</th>\n",
       "      <th>...</th>\n",
       "      <th>recoubs_count</th>\n",
       "      <th>likes_count</th>\n",
       "      <th>dislikes_count</th>\n",
       "      <th>category_title</th>\n",
       "      <th>url_big</th>\n",
       "      <th>fixed_tags</th>\n",
       "      <th>recoubs_count_cat</th>\n",
       "      <th>likes_count_cat</th>\n",
       "      <th>dislikes_count_cat</th>\n",
       "      <th>created_at_date</th>\n",
       "    </tr>\n",
       "  </thead>\n",
       "  <tbody>\n",
       "    <tr>\n",
       "      <th>717199</th>\n",
       "      <td>155128712</td>\n",
       "      <td>4152145</td>\n",
       "      <td>BadRobotSpb</td>\n",
       "      <td>15</td>\n",
       "      <td>16</td>\n",
       "      <td>like</td>\n",
       "      <td>Bird Photobombs Meteorologist</td>\n",
       "      <td>2020-10-04 13:38:45+00:00</td>\n",
       "      <td>10.04</td>\n",
       "      <td>[]</td>\n",
       "      <td>...</td>\n",
       "      <td>386</td>\n",
       "      <td>1965</td>\n",
       "      <td>572</td>\n",
       "      <td>Animals &amp; Pets</td>\n",
       "      <td>https://coubsecure-s.akamaihd.net/get/b103/p/c...</td>\n",
       "      <td>[bird, photobombs, meteorologist]</td>\n",
       "      <td>high</td>\n",
       "      <td>high</td>\n",
       "      <td>high</td>\n",
       "      <td>2020-10</td>\n",
       "    </tr>\n",
       "    <tr>\n",
       "      <th>713223</th>\n",
       "      <td>155100558</td>\n",
       "      <td>4152145</td>\n",
       "      <td>BadRobotSpb</td>\n",
       "      <td>15</td>\n",
       "      <td>16</td>\n",
       "      <td>like</td>\n",
       "      <td>Protect the chicks</td>\n",
       "      <td>2020-10-04 01:43:31+00:00</td>\n",
       "      <td>8.24</td>\n",
       "      <td>[cats, cat, cuteanimalshare, catsoftwitter, ca...</td>\n",
       "      <td>...</td>\n",
       "      <td>275</td>\n",
       "      <td>1459</td>\n",
       "      <td>645</td>\n",
       "      <td>Animals &amp; Pets</td>\n",
       "      <td>https://coubsecure-s.akamaihd.net/get/b103/p/c...</td>\n",
       "      <td>[cats, cat, cuteanimalshare, catsoftwitter, ca...</td>\n",
       "      <td>high</td>\n",
       "      <td>high</td>\n",
       "      <td>high</td>\n",
       "      <td>2020-10</td>\n",
       "    </tr>\n",
       "    <tr>\n",
       "      <th>736213</th>\n",
       "      <td>155369644</td>\n",
       "      <td>4152145</td>\n",
       "      <td>BadRobotSpb</td>\n",
       "      <td>15</td>\n",
       "      <td>16</td>\n",
       "      <td>like</td>\n",
       "      <td>Infection</td>\n",
       "      <td>2020-10-08 10:20:59+00:00</td>\n",
       "      <td>10.04</td>\n",
       "      <td>[cat, baby cat]</td>\n",
       "      <td>...</td>\n",
       "      <td>127</td>\n",
       "      <td>551</td>\n",
       "      <td>9</td>\n",
       "      <td>Animals &amp; Pets</td>\n",
       "      <td>https://coubsecure-s.akamaihd.net/get/b139/p/c...</td>\n",
       "      <td>[cat, baby cat]</td>\n",
       "      <td>middle</td>\n",
       "      <td>middle</td>\n",
       "      <td>low</td>\n",
       "      <td>2020-10</td>\n",
       "    </tr>\n",
       "    <tr>\n",
       "      <th>726739</th>\n",
       "      <td>155209713</td>\n",
       "      <td>4152145</td>\n",
       "      <td>BadRobotSpb</td>\n",
       "      <td>15</td>\n",
       "      <td>16</td>\n",
       "      <td>like</td>\n",
       "      <td></td>\n",
       "      <td>2020-10-05 18:47:12+00:00</td>\n",
       "      <td>10.00</td>\n",
       "      <td>[cat, piratesofthecaribbean, hesapirate, movie...</td>\n",
       "      <td>...</td>\n",
       "      <td>97</td>\n",
       "      <td>443</td>\n",
       "      <td>716</td>\n",
       "      <td>Animals &amp; Pets</td>\n",
       "      <td>https://coubsecure-s.akamaihd.net/get/b43/p/co...</td>\n",
       "      <td>[cat, piratesofthecaribbean, hesapirate, movie...</td>\n",
       "      <td>middle</td>\n",
       "      <td>middle</td>\n",
       "      <td>high</td>\n",
       "      <td>2020-10</td>\n",
       "    </tr>\n",
       "    <tr>\n",
       "      <th>519720</th>\n",
       "      <td>152970967</td>\n",
       "      <td>4152145</td>\n",
       "      <td>BadRobotSpb</td>\n",
       "      <td>15</td>\n",
       "      <td>16</td>\n",
       "      <td>like</td>\n",
       "      <td>horse s battle</td>\n",
       "      <td>2020-09-01 13:47:48+00:00</td>\n",
       "      <td>6.72</td>\n",
       "      <td>[]</td>\n",
       "      <td>...</td>\n",
       "      <td>263</td>\n",
       "      <td>1374</td>\n",
       "      <td>151</td>\n",
       "      <td>Animals &amp; Pets</td>\n",
       "      <td>https://coubsecure-s.akamaihd.net/get/b55/p/co...</td>\n",
       "      <td>[horse, battle]</td>\n",
       "      <td>high</td>\n",
       "      <td>high</td>\n",
       "      <td>low</td>\n",
       "      <td>2020-09</td>\n",
       "    </tr>\n",
       "  </tbody>\n",
       "</table>\n",
       "<p>5 rows × 21 columns</p>\n",
       "</div>"
      ],
      "text/plain": [
       "          coub_id  user_id    user_name  user_followers_count  \\\n",
       "717199  155128712  4152145  BadRobotSpb                    15   \n",
       "713223  155100558  4152145  BadRobotSpb                    15   \n",
       "736213  155369644  4152145  BadRobotSpb                    15   \n",
       "726739  155209713  4152145  BadRobotSpb                    15   \n",
       "519720  152970967  4152145  BadRobotSpb                    15   \n",
       "\n",
       "        user_following_count reaction_type                          title  \\\n",
       "717199                    16          like  Bird Photobombs Meteorologist   \n",
       "713223                    16          like             Protect the chicks   \n",
       "736213                    16          like                      Infection   \n",
       "726739                    16          like                                  \n",
       "519720                    16          like                 horse s battle   \n",
       "\n",
       "                      created_at  duration  \\\n",
       "717199 2020-10-04 13:38:45+00:00     10.04   \n",
       "713223 2020-10-04 01:43:31+00:00      8.24   \n",
       "736213 2020-10-08 10:20:59+00:00     10.04   \n",
       "726739 2020-10-05 18:47:12+00:00     10.00   \n",
       "519720 2020-09-01 13:47:48+00:00      6.72   \n",
       "\n",
       "                                                     tags  ...  recoubs_count  \\\n",
       "717199                                                 []  ...            386   \n",
       "713223  [cats, cat, cuteanimalshare, catsoftwitter, ca...  ...            275   \n",
       "736213                                    [cat, baby cat]  ...            127   \n",
       "726739  [cat, piratesofthecaribbean, hesapirate, movie...  ...             97   \n",
       "519720                                                 []  ...            263   \n",
       "\n",
       "        likes_count  dislikes_count  category_title  \\\n",
       "717199         1965             572  Animals & Pets   \n",
       "713223         1459             645  Animals & Pets   \n",
       "736213          551               9  Animals & Pets   \n",
       "726739          443             716  Animals & Pets   \n",
       "519720         1374             151  Animals & Pets   \n",
       "\n",
       "                                                  url_big  \\\n",
       "717199  https://coubsecure-s.akamaihd.net/get/b103/p/c...   \n",
       "713223  https://coubsecure-s.akamaihd.net/get/b103/p/c...   \n",
       "736213  https://coubsecure-s.akamaihd.net/get/b139/p/c...   \n",
       "726739  https://coubsecure-s.akamaihd.net/get/b43/p/co...   \n",
       "519720  https://coubsecure-s.akamaihd.net/get/b55/p/co...   \n",
       "\n",
       "                                               fixed_tags recoubs_count_cat  \\\n",
       "717199                  [bird, photobombs, meteorologist]              high   \n",
       "713223  [cats, cat, cuteanimalshare, catsoftwitter, ca...              high   \n",
       "736213                                    [cat, baby cat]            middle   \n",
       "726739  [cat, piratesofthecaribbean, hesapirate, movie...            middle   \n",
       "519720                                    [horse, battle]              high   \n",
       "\n",
       "       likes_count_cat dislikes_count_cat created_at_date  \n",
       "717199            high               high         2020-10  \n",
       "713223            high               high         2020-10  \n",
       "736213          middle                low         2020-10  \n",
       "726739          middle               high         2020-10  \n",
       "519720            high                low         2020-09  \n",
       "\n",
       "[5 rows x 21 columns]"
      ]
     },
     "execution_count": 58,
     "metadata": {},
     "output_type": "execute_result"
    }
   ],
   "source": [
    "user_history_animals[user_history_animals.user_id == 4152145]"
   ]
  },
  {
   "cell_type": "code",
   "execution_count": 59,
   "metadata": {
    "ExecuteTime": {
     "end_time": "2020-10-29T20:02:52.271464Z",
     "start_time": "2020-10-29T20:02:52.266296Z"
    }
   },
   "outputs": [],
   "source": [
    "def get_user_recommendations(user_id, coub_id=None, df=user_history_animals):\n",
    "    \"\"\"\n",
    "    Returns top-5 suggestions per user. If coub_id is None, takes all available coubs, \n",
    "    defines for each top-5 suggestions and takes top-5 out of these based on the similarity score. \n",
    "    Otherwise gives top-5 suggestions for the specified video.\n",
    "    \n",
    "    Arguments:\n",
    "        :user_id - ID of the user from the database\n",
    "        :coub_id - ID of the video of interest for the specified user. Default - None.\n",
    "        :df - dataframe with all users and their up to 4 watched videos.\n",
    "    Returns:\n",
    "        :recommended_videos - dataframe with top-5 suggestions for watching\n",
    "    \"\"\"\n",
    "    \n",
    "    video_ids = df[df.user_id == user_id].coub_id.values\n",
    "    \n",
    "    if coub_id is not None:\n",
    "        recommended_videos = get_recommendations(coub_id, return_sim_links=True)\n",
    "    \n",
    "    else:\n",
    "        recommended_videos = pd.DataFrame()\n",
    "        for id in video_ids:\n",
    "            data = get_recommendations(id, return_sim_links=True)\n",
    "            recommended_videos = pd.concat([recommended_videos, data])\n",
    "\n",
    "        recommended_videos = recommended_videos.sort_values(by='sim_score', ascending=False).head()\n",
    "\n",
    "    return recommended_videos\n",
    "    "
   ]
  },
  {
   "cell_type": "code",
   "execution_count": 60,
   "metadata": {
    "ExecuteTime": {
     "end_time": "2020-10-29T20:02:52.285256Z",
     "start_time": "2020-10-29T20:02:52.273472Z"
    },
    "scrolled": true
   },
   "outputs": [
    {
     "data": {
      "text/html": [
       "<div>\n",
       "<style scoped>\n",
       "    .dataframe tbody tr th:only-of-type {\n",
       "        vertical-align: middle;\n",
       "    }\n",
       "\n",
       "    .dataframe tbody tr th {\n",
       "        vertical-align: top;\n",
       "    }\n",
       "\n",
       "    .dataframe thead th {\n",
       "        text-align: right;\n",
       "    }\n",
       "</style>\n",
       "<table border=\"1\" class=\"dataframe\">\n",
       "  <thead>\n",
       "    <tr style=\"text-align: right;\">\n",
       "      <th></th>\n",
       "      <th>id</th>\n",
       "      <th>title</th>\n",
       "      <th>sim_score</th>\n",
       "      <th>url_big</th>\n",
       "    </tr>\n",
       "  </thead>\n",
       "  <tbody>\n",
       "    <tr>\n",
       "      <th>11</th>\n",
       "      <td>89848750</td>\n",
       "      <td>Bird</td>\n",
       "      <td>0.195678</td>\n",
       "      <td>https://coubsecure-s.akamaihd.net/get/b201/p/c...</td>\n",
       "    </tr>\n",
       "    <tr>\n",
       "      <th>1061</th>\n",
       "      <td>155971911</td>\n",
       "      <td>Bird Dance</td>\n",
       "      <td>0.119810</td>\n",
       "      <td>https://coubsecure-s.akamaihd.net/get/b200/p/c...</td>\n",
       "    </tr>\n",
       "    <tr>\n",
       "      <th>1074</th>\n",
       "      <td>156038330</td>\n",
       "      <td>BIRD MASSAGE</td>\n",
       "      <td>0.080325</td>\n",
       "      <td>https://coubsecure-s.akamaihd.net/get/b150/p/c...</td>\n",
       "    </tr>\n",
       "    <tr>\n",
       "      <th>517</th>\n",
       "      <td>151453176</td>\n",
       "      <td>Bird dance</td>\n",
       "      <td>0.078933</td>\n",
       "      <td>https://coubsecure-s.akamaihd.net/get/b38/p/co...</td>\n",
       "    </tr>\n",
       "    <tr>\n",
       "      <th>528</th>\n",
       "      <td>151496360</td>\n",
       "      <td>Get freaky Music Instructors</td>\n",
       "      <td>0.055711</td>\n",
       "      <td>https://coubsecure-s.akamaihd.net/get/b2/p/cou...</td>\n",
       "    </tr>\n",
       "  </tbody>\n",
       "</table>\n",
       "</div>"
      ],
      "text/plain": [
       "             id                         title  sim_score  \\\n",
       "11     89848750                          Bird   0.195678   \n",
       "1061  155971911                    Bird Dance   0.119810   \n",
       "1074  156038330                  BIRD MASSAGE   0.080325   \n",
       "517   151453176                    Bird dance   0.078933   \n",
       "528   151496360  Get freaky Music Instructors   0.055711   \n",
       "\n",
       "                                                url_big  \n",
       "11    https://coubsecure-s.akamaihd.net/get/b201/p/c...  \n",
       "1061  https://coubsecure-s.akamaihd.net/get/b200/p/c...  \n",
       "1074  https://coubsecure-s.akamaihd.net/get/b150/p/c...  \n",
       "517   https://coubsecure-s.akamaihd.net/get/b38/p/co...  \n",
       "528   https://coubsecure-s.akamaihd.net/get/b2/p/cou...  "
      ]
     },
     "execution_count": 60,
     "metadata": {},
     "output_type": "execute_result"
    }
   ],
   "source": [
    "get_user_recommendations(user_id=4152145, coub_id=155128712)"
   ]
  },
  {
   "cell_type": "code",
   "execution_count": 61,
   "metadata": {
    "ExecuteTime": {
     "end_time": "2020-10-29T20:02:52.311948Z",
     "start_time": "2020-10-29T20:02:52.286848Z"
    },
    "scrolled": true
   },
   "outputs": [
    {
     "data": {
      "text/html": [
       "<div>\n",
       "<style scoped>\n",
       "    .dataframe tbody tr th:only-of-type {\n",
       "        vertical-align: middle;\n",
       "    }\n",
       "\n",
       "    .dataframe tbody tr th {\n",
       "        vertical-align: top;\n",
       "    }\n",
       "\n",
       "    .dataframe thead th {\n",
       "        text-align: right;\n",
       "    }\n",
       "</style>\n",
       "<table border=\"1\" class=\"dataframe\">\n",
       "  <thead>\n",
       "    <tr style=\"text-align: right;\">\n",
       "      <th></th>\n",
       "      <th>id</th>\n",
       "      <th>title</th>\n",
       "      <th>sim_score</th>\n",
       "      <th>url_big</th>\n",
       "    </tr>\n",
       "  </thead>\n",
       "  <tbody>\n",
       "    <tr>\n",
       "      <th>859</th>\n",
       "      <td>154192499</td>\n",
       "      <td>Look at his eyes</td>\n",
       "      <td>0.550621</td>\n",
       "      <td>https://coubsecure-s.akamaihd.net/get/b160/p/c...</td>\n",
       "    </tr>\n",
       "    <tr>\n",
       "      <th>968</th>\n",
       "      <td>155151492</td>\n",
       "      <td>Это маи все все маи</td>\n",
       "      <td>0.430347</td>\n",
       "      <td>https://coubsecure-s.akamaihd.net/get/b119/p/c...</td>\n",
       "    </tr>\n",
       "    <tr>\n",
       "      <th>783</th>\n",
       "      <td>153525709</td>\n",
       "      <td>Lazy fluffy ginger cat</td>\n",
       "      <td>0.322331</td>\n",
       "      <td>https://coubsecure-s.akamaihd.net/get/b67/p/co...</td>\n",
       "    </tr>\n",
       "    <tr>\n",
       "      <th>1101</th>\n",
       "      <td>156336818</td>\n",
       "      <td>Such a cutie</td>\n",
       "      <td>0.272544</td>\n",
       "      <td>https://coubsecure-s.akamaihd.net/get/b172/p/c...</td>\n",
       "    </tr>\n",
       "    <tr>\n",
       "      <th>1102</th>\n",
       "      <td>156336994</td>\n",
       "      <td>Little kitty cat is so funny</td>\n",
       "      <td>0.263095</td>\n",
       "      <td>https://coubsecure-s.akamaihd.net/get/b130/p/c...</td>\n",
       "    </tr>\n",
       "  </tbody>\n",
       "</table>\n",
       "</div>"
      ],
      "text/plain": [
       "             id                         title  sim_score  \\\n",
       "859   154192499              Look at his eyes   0.550621   \n",
       "968   155151492           Это маи все все маи   0.430347   \n",
       "783   153525709        Lazy fluffy ginger cat   0.322331   \n",
       "1101  156336818                  Such a cutie   0.272544   \n",
       "1102  156336994  Little kitty cat is so funny   0.263095   \n",
       "\n",
       "                                                url_big  \n",
       "859   https://coubsecure-s.akamaihd.net/get/b160/p/c...  \n",
       "968   https://coubsecure-s.akamaihd.net/get/b119/p/c...  \n",
       "783   https://coubsecure-s.akamaihd.net/get/b67/p/co...  \n",
       "1101  https://coubsecure-s.akamaihd.net/get/b172/p/c...  \n",
       "1102  https://coubsecure-s.akamaihd.net/get/b130/p/c...  "
      ]
     },
     "execution_count": 61,
     "metadata": {},
     "output_type": "execute_result"
    }
   ],
   "source": [
    "get_user_recommendations(4152145)"
   ]
  },
  {
   "cell_type": "markdown",
   "metadata": {},
   "source": [
    "In the end, I was able to combine purely item based content approach with the hustoric preferences of the user, and the results are good enough for the baseline approach to further finetune. \n",
    "\n",
    "Now I'll try to experiment with collaborative filtering approach. For this based on the likes and reposts and dislikes I'll create user rating and will consider the recommendation problem as a regression problem to fix with surprise library algorithms. "
   ]
  },
  {
   "cell_type": "markdown",
   "metadata": {},
   "source": [
    "## Classical collaborative filtering with user rating"
   ]
  },
  {
   "cell_type": "markdown",
   "metadata": {},
   "source": [
    "### Creating individual rating per coub"
   ]
  },
  {
   "cell_type": "markdown",
   "metadata": {},
   "source": [
    "At present, we face in some respect the 'cold start' problem, in the sense that while having some metadata for the videos we lack individual and average video scores, necessary for the collaborative filtering model. So let's create them. \n",
    "\n",
    "We begin by creating the average rating as follows:\n",
    "- first we define the columns to take part in the cummulative average rating: views_count, recoubs_count, likes_count, dislikes_count;\n",
    "- we binarize them into **three bins each and assign the value from 2 to 4** with respect to where specific value falls into except for dislikes, which amount to **1 to 3** - we don't want to penalize that much\n",
    "- apply the following formula:\n",
    "\n",
    "**R = (views_count(score) + recoubs_count(score) + likes_count(score) - dislikes_count(score))**\n",
    "\n",
    "\n",
    "\n",
    "Then let's create weighted rating (WR) following the IMDB formula:\n",
    "\n",
    "\n",
    "\\begin{equation*}\n",
    "WR = \\left( \\frac{v}{(v + m)} \\right) * R + \\left( \\frac{m}{(v + m)} \\right) * C,\n",
    "\\end{equation*}\n",
    "\n",
    "\n",
    "<!-- tf_{x,y} * log \\left( \\frac{N}{df_x} \\right),   -->\n",
    "\n",
    "where:\n",
    "- v - the number of votes for the movie;\n",
    "- m - the minimum votes required to be listed in the chart;\n",
    "- R - the average rating of the movie; \n",
    "- C - the mean vote across the whole report.\n",
    "\n",
    "Since we don't have the number of votes, let's create them based on the assumption: **#votes = int(0.10 * #views)**;\n",
    "\n",
    "The **m**, or minimal number of votes required to be listed is set to be **90% percentile of v**;\n",
    "\n",
    "**C** is easy to obtain by taking an average accross all ratings in the dataframe\n",
    "\n",
    "Once the weighted average rating is computed, we can calculate the individual rating of the coub using the following logic: \n",
    "- **if the user only liked the coub, the result of WR is multiplied by 1, i.e. equals the WR**; \n",
    "- **else if he reposted the coub onto his page, the WR is multiplied by 1.25.**"
   ]
  },
  {
   "cell_type": "code",
   "execution_count": 62,
   "metadata": {
    "ExecuteTime": {
     "end_time": "2020-10-29T20:02:52.457117Z",
     "start_time": "2020-10-29T20:02:52.313364Z"
    }
   },
   "outputs": [
    {
     "data": {
      "text/plain": [
       "3    78091\n",
       "1    74135\n",
       "2    62691\n",
       "5    17658\n",
       "4    13930\n",
       "6    10966\n",
       "7     6705\n",
       "8     1790\n",
       "Name: R, dtype: int64"
      ]
     },
     "execution_count": 62,
     "metadata": {},
     "output_type": "execute_result"
    }
   ],
   "source": [
    "cols = ['views_count','recoubs_count','likes_count','dislikes_count']\n",
    "\n",
    "def calculate_R(df):\n",
    "    \"\"\"\n",
    "    Calculates R - the average rating of the video based on specified quantile rules.\n",
    "    \"\"\"\n",
    "    \n",
    "    labels = np.array([1,2,3])\n",
    "    vc = pd.cut(df.views_count, 3, labels=labels)#.values#.unique()\n",
    "    \n",
    "    rc = pd.cut(df.recoubs_count, 3, labels=labels)\n",
    "    \n",
    "    lc = pd.cut(df.likes_count, 3, labels=labels)\n",
    "    \n",
    "    dc = pd.cut(df.dislikes_count, 3, labels=labels)\n",
    "    \n",
    "    R = pd.DataFrame()\n",
    "    R['vc'] = vc.astype(int)\n",
    "    R['rc'] = rc.astype(int)\n",
    "    R['lc'] = lc.astype(int)\n",
    "    R['dc'] = dc.astype(int)\n",
    "    \n",
    "    # since rating cannot be 0, thus scale by adding 1 to all ratings \n",
    "    R = (R['vc'] + R['rc'] + R['lc'] - R['dc']).apply(lambda x: x + 1)\n",
    "   \n",
    "    return R\n",
    "    \n",
    "    \n",
    "user_history_animals['R'] = calculate_R(user_history_animals[cols])\n",
    "\n",
    "user_history_animals['R'].value_counts()"
   ]
  },
  {
   "cell_type": "code",
   "execution_count": 63,
   "metadata": {
    "ExecuteTime": {
     "end_time": "2020-10-29T20:02:54.353185Z",
     "start_time": "2020-10-29T20:02:52.458589Z"
    }
   },
   "outputs": [
    {
     "data": {
      "text/plain": [
       "2    140782\n",
       "1     74135\n",
       "4     17658\n",
       "3     13930\n",
       "5     10966\n",
       "6      6705\n",
       "7      1790\n",
       "Name: WR, dtype: int64"
      ]
     },
     "execution_count": 63,
     "metadata": {},
     "output_type": "execute_result"
    }
   ],
   "source": [
    "m = user_history_animals['R'].quantile(0.9)\n",
    "C = user_history_animals['R'].mean()\n",
    "    \n",
    "def calculate_WR(df, m, C):\n",
    "    \n",
    "    views_count, R = df\n",
    "    \n",
    "    v = int(0.1 * views_count)\n",
    "    \n",
    "    WR = (v/(v+m) * R) + (m/(m+v) * C)\n",
    "    \n",
    "    return WR\n",
    "\n",
    "\n",
    "user_history_animals['WR'] = user_history_animals[['views_count','R']].apply(lambda x: calculate_WR(x, m,C), axis=1).apply(int)\n",
    "\n",
    "user_history_animals['WR'].value_counts()\n",
    "\n",
    "\n",
    "\n",
    "\n"
   ]
  },
  {
   "cell_type": "code",
   "execution_count": 64,
   "metadata": {
    "ExecuteTime": {
     "end_time": "2020-10-29T20:02:54.383124Z",
     "start_time": "2020-10-29T20:02:54.355100Z"
    },
    "scrolled": true
   },
   "outputs": [
    {
     "data": {
      "text/html": [
       "<div>\n",
       "<style scoped>\n",
       "    .dataframe tbody tr th:only-of-type {\n",
       "        vertical-align: middle;\n",
       "    }\n",
       "\n",
       "    .dataframe tbody tr th {\n",
       "        vertical-align: top;\n",
       "    }\n",
       "\n",
       "    .dataframe thead th {\n",
       "        text-align: right;\n",
       "    }\n",
       "</style>\n",
       "<table border=\"1\" class=\"dataframe\">\n",
       "  <thead>\n",
       "    <tr style=\"text-align: right;\">\n",
       "      <th></th>\n",
       "      <th>coub_id</th>\n",
       "      <th>user_id</th>\n",
       "      <th>user_name</th>\n",
       "      <th>user_followers_count</th>\n",
       "      <th>user_following_count</th>\n",
       "      <th>reaction_type</th>\n",
       "      <th>title</th>\n",
       "      <th>created_at</th>\n",
       "      <th>duration</th>\n",
       "      <th>tags</th>\n",
       "      <th>...</th>\n",
       "      <th>dislikes_count</th>\n",
       "      <th>category_title</th>\n",
       "      <th>url_big</th>\n",
       "      <th>fixed_tags</th>\n",
       "      <th>recoubs_count_cat</th>\n",
       "      <th>likes_count_cat</th>\n",
       "      <th>dislikes_count_cat</th>\n",
       "      <th>created_at_date</th>\n",
       "      <th>R</th>\n",
       "      <th>WR</th>\n",
       "    </tr>\n",
       "  </thead>\n",
       "  <tbody>\n",
       "    <tr>\n",
       "      <th>778818</th>\n",
       "      <td>156338544</td>\n",
       "      <td>10494865</td>\n",
       "      <td>Wolfgirl pink</td>\n",
       "      <td>0</td>\n",
       "      <td>11</td>\n",
       "      <td>like</td>\n",
       "      <td>bird breakdancer</td>\n",
       "      <td>2020-10-22 21:06:43+00:00</td>\n",
       "      <td>10.00</td>\n",
       "      <td>[coub, dance, music, коуб, танец, музыка, прир...</td>\n",
       "      <td>...</td>\n",
       "      <td>300</td>\n",
       "      <td>Animals &amp; Pets</td>\n",
       "      <td>https://coubsecure-s.akamaihd.net/get/b172/p/c...</td>\n",
       "      <td>[coub, dance, music, animal]</td>\n",
       "      <td>middle</td>\n",
       "      <td>low</td>\n",
       "      <td>low</td>\n",
       "      <td>2020-10</td>\n",
       "      <td>2</td>\n",
       "      <td>2</td>\n",
       "    </tr>\n",
       "    <tr>\n",
       "      <th>647930</th>\n",
       "      <td>154142166</td>\n",
       "      <td>10494203</td>\n",
       "      <td>AdeLMa</td>\n",
       "      <td>0</td>\n",
       "      <td>11</td>\n",
       "      <td>like</td>\n",
       "      <td>Трюкач</td>\n",
       "      <td>2020-09-19 09:45:58+00:00</td>\n",
       "      <td>9.52</td>\n",
       "      <td>[dog, dogs, fun, funny, animals, cat, cats, po...</td>\n",
       "      <td>...</td>\n",
       "      <td>216</td>\n",
       "      <td>Animals &amp; Pets</td>\n",
       "      <td>https://coubsecure-s.akamaihd.net/get/b172/p/c...</td>\n",
       "      <td>[dog, dogs, fun, funny, animals, cat, cats, po...</td>\n",
       "      <td>high</td>\n",
       "      <td>high</td>\n",
       "      <td>low</td>\n",
       "      <td>2020-09</td>\n",
       "      <td>3</td>\n",
       "      <td>2</td>\n",
       "    </tr>\n",
       "    <tr>\n",
       "      <th>778660</th>\n",
       "      <td>156336994</td>\n",
       "      <td>10493353</td>\n",
       "      <td>Artyom Pischulin</td>\n",
       "      <td>0</td>\n",
       "      <td>11</td>\n",
       "      <td>like</td>\n",
       "      <td>Little kitty cat is so funny</td>\n",
       "      <td>2020-10-22 20:49:00+00:00</td>\n",
       "      <td>10.00</td>\n",
       "      <td>[kitty, cats, cat, cuteanimalshare, catsoftwit...</td>\n",
       "      <td>...</td>\n",
       "      <td>469</td>\n",
       "      <td>Animals &amp; Pets</td>\n",
       "      <td>https://coubsecure-s.akamaihd.net/get/b130/p/c...</td>\n",
       "      <td>[kitty, cats, cat, cuteanimalshare, catsoftwit...</td>\n",
       "      <td>low</td>\n",
       "      <td>low</td>\n",
       "      <td>middle</td>\n",
       "      <td>2020-10</td>\n",
       "      <td>2</td>\n",
       "      <td>2</td>\n",
       "    </tr>\n",
       "    <tr>\n",
       "      <th>764110</th>\n",
       "      <td>155995340</td>\n",
       "      <td>10493276</td>\n",
       "      <td>Sasuke Uchiha</td>\n",
       "      <td>0</td>\n",
       "      <td>14</td>\n",
       "      <td>like</td>\n",
       "      <td>Leave me alone</td>\n",
       "      <td>2020-10-17 19:59:53+00:00</td>\n",
       "      <td>9.92</td>\n",
       "      <td>[cat, meow]</td>\n",
       "      <td>...</td>\n",
       "      <td>253</td>\n",
       "      <td>Animals &amp; Pets</td>\n",
       "      <td>https://coubsecure-s.akamaihd.net/get/b104/p/c...</td>\n",
       "      <td>[cat, meow]</td>\n",
       "      <td>high</td>\n",
       "      <td>high</td>\n",
       "      <td>low</td>\n",
       "      <td>2020-10</td>\n",
       "      <td>2</td>\n",
       "      <td>2</td>\n",
       "    </tr>\n",
       "    <tr>\n",
       "      <th>779112</th>\n",
       "      <td>156341450</td>\n",
       "      <td>10492551</td>\n",
       "      <td>Lohan</td>\n",
       "      <td>0</td>\n",
       "      <td>11</td>\n",
       "      <td>like</td>\n",
       "      <td>Pump it</td>\n",
       "      <td>2020-10-22 21:52:34+00:00</td>\n",
       "      <td>10.00</td>\n",
       "      <td>[]</td>\n",
       "      <td>...</td>\n",
       "      <td>272</td>\n",
       "      <td>Animals &amp; Pets</td>\n",
       "      <td>https://coubsecure-s.akamaihd.net/get/b172/p/c...</td>\n",
       "      <td>[pump]</td>\n",
       "      <td>low</td>\n",
       "      <td>low</td>\n",
       "      <td>low</td>\n",
       "      <td>2020-10</td>\n",
       "      <td>2</td>\n",
       "      <td>2</td>\n",
       "    </tr>\n",
       "  </tbody>\n",
       "</table>\n",
       "<p>5 rows × 23 columns</p>\n",
       "</div>"
      ],
      "text/plain": [
       "          coub_id   user_id         user_name  user_followers_count  \\\n",
       "778818  156338544  10494865     Wolfgirl pink                     0   \n",
       "647930  154142166  10494203            AdeLMa                     0   \n",
       "778660  156336994  10493353  Artyom Pischulin                     0   \n",
       "764110  155995340  10493276     Sasuke Uchiha                     0   \n",
       "779112  156341450  10492551             Lohan                     0   \n",
       "\n",
       "        user_following_count reaction_type                         title  \\\n",
       "778818                    11          like              bird breakdancer   \n",
       "647930                    11          like                        Трюкач   \n",
       "778660                    11          like  Little kitty cat is so funny   \n",
       "764110                    14          like                Leave me alone   \n",
       "779112                    11          like                       Pump it   \n",
       "\n",
       "                      created_at  duration  \\\n",
       "778818 2020-10-22 21:06:43+00:00     10.00   \n",
       "647930 2020-09-19 09:45:58+00:00      9.52   \n",
       "778660 2020-10-22 20:49:00+00:00     10.00   \n",
       "764110 2020-10-17 19:59:53+00:00      9.92   \n",
       "779112 2020-10-22 21:52:34+00:00     10.00   \n",
       "\n",
       "                                                     tags  ...  \\\n",
       "778818  [coub, dance, music, коуб, танец, музыка, прир...  ...   \n",
       "647930  [dog, dogs, fun, funny, animals, cat, cats, po...  ...   \n",
       "778660  [kitty, cats, cat, cuteanimalshare, catsoftwit...  ...   \n",
       "764110                                        [cat, meow]  ...   \n",
       "779112                                                 []  ...   \n",
       "\n",
       "        dislikes_count  category_title  \\\n",
       "778818             300  Animals & Pets   \n",
       "647930             216  Animals & Pets   \n",
       "778660             469  Animals & Pets   \n",
       "764110             253  Animals & Pets   \n",
       "779112             272  Animals & Pets   \n",
       "\n",
       "                                                  url_big  \\\n",
       "778818  https://coubsecure-s.akamaihd.net/get/b172/p/c...   \n",
       "647930  https://coubsecure-s.akamaihd.net/get/b172/p/c...   \n",
       "778660  https://coubsecure-s.akamaihd.net/get/b130/p/c...   \n",
       "764110  https://coubsecure-s.akamaihd.net/get/b104/p/c...   \n",
       "779112  https://coubsecure-s.akamaihd.net/get/b172/p/c...   \n",
       "\n",
       "                                               fixed_tags recoubs_count_cat  \\\n",
       "778818                       [coub, dance, music, animal]            middle   \n",
       "647930  [dog, dogs, fun, funny, animals, cat, cats, po...              high   \n",
       "778660  [kitty, cats, cat, cuteanimalshare, catsoftwit...               low   \n",
       "764110                                        [cat, meow]              high   \n",
       "779112                                             [pump]               low   \n",
       "\n",
       "       likes_count_cat dislikes_count_cat created_at_date  R WR  \n",
       "778818             low                low         2020-10  2  2  \n",
       "647930            high                low         2020-09  3  2  \n",
       "778660             low             middle         2020-10  2  2  \n",
       "764110            high                low         2020-10  2  2  \n",
       "779112             low                low         2020-10  2  2  \n",
       "\n",
       "[5 rows x 23 columns]"
      ]
     },
     "execution_count": 64,
     "metadata": {},
     "output_type": "execute_result"
    }
   ],
   "source": [
    "user_history_animals.head()"
   ]
  },
  {
   "cell_type": "code",
   "execution_count": 65,
   "metadata": {
    "ExecuteTime": {
     "end_time": "2020-10-29T20:03:05.673249Z",
     "start_time": "2020-10-29T20:02:54.384911Z"
    }
   },
   "outputs": [
    {
     "data": {
      "text/plain": [
       "2    140782\n",
       "1     74135\n",
       "5     25372\n",
       "3     13930\n",
       "4     11747\n",
       "Name: user_rating, dtype: int64"
      ]
     },
     "execution_count": 65,
     "metadata": {},
     "output_type": "execute_result"
    }
   ],
   "source": [
    "# if rating is over 5, we limit it by 5\n",
    "user_history_animals['user_rating'] = user_history_animals[['user_id', 'WR']].apply(\n",
    "        lambda x: x[1] if x[0] not in user_ids_repo \n",
    "                     else 1.25 * x[1], axis=1).apply(lambda x: 5 if x > 5 else x).apply(int)\n",
    "\n",
    "\n",
    "\n",
    "user_history_animals['user_rating'].value_counts()"
   ]
  },
  {
   "cell_type": "code",
   "execution_count": 66,
   "metadata": {
    "ExecuteTime": {
     "end_time": "2020-10-29T20:03:05.811605Z",
     "start_time": "2020-10-29T20:03:05.675492Z"
    }
   },
   "outputs": [
    {
     "data": {
      "text/html": [
       "<div>\n",
       "<style scoped>\n",
       "    .dataframe tbody tr th:only-of-type {\n",
       "        vertical-align: middle;\n",
       "    }\n",
       "\n",
       "    .dataframe tbody tr th {\n",
       "        vertical-align: top;\n",
       "    }\n",
       "\n",
       "    .dataframe thead th {\n",
       "        text-align: right;\n",
       "    }\n",
       "</style>\n",
       "<table border=\"1\" class=\"dataframe\">\n",
       "  <thead>\n",
       "    <tr style=\"text-align: right;\">\n",
       "      <th></th>\n",
       "      <th>user_id</th>\n",
       "      <th>coub_id</th>\n",
       "      <th>user_rating</th>\n",
       "      <th>created_at</th>\n",
       "      <th>week_day</th>\n",
       "    </tr>\n",
       "  </thead>\n",
       "  <tbody>\n",
       "    <tr>\n",
       "      <th>778818</th>\n",
       "      <td>10494865</td>\n",
       "      <td>156338544</td>\n",
       "      <td>2</td>\n",
       "      <td>2020-10-22 21:06:43+00:00</td>\n",
       "      <td>Thursday</td>\n",
       "    </tr>\n",
       "    <tr>\n",
       "      <th>647930</th>\n",
       "      <td>10494203</td>\n",
       "      <td>154142166</td>\n",
       "      <td>2</td>\n",
       "      <td>2020-09-19 09:45:58+00:00</td>\n",
       "      <td>Saturday</td>\n",
       "    </tr>\n",
       "    <tr>\n",
       "      <th>778660</th>\n",
       "      <td>10493353</td>\n",
       "      <td>156336994</td>\n",
       "      <td>2</td>\n",
       "      <td>2020-10-22 20:49:00+00:00</td>\n",
       "      <td>Thursday</td>\n",
       "    </tr>\n",
       "    <tr>\n",
       "      <th>764110</th>\n",
       "      <td>10493276</td>\n",
       "      <td>155995340</td>\n",
       "      <td>2</td>\n",
       "      <td>2020-10-17 19:59:53+00:00</td>\n",
       "      <td>Saturday</td>\n",
       "    </tr>\n",
       "    <tr>\n",
       "      <th>779112</th>\n",
       "      <td>10492551</td>\n",
       "      <td>156341450</td>\n",
       "      <td>2</td>\n",
       "      <td>2020-10-22 21:52:34+00:00</td>\n",
       "      <td>Thursday</td>\n",
       "    </tr>\n",
       "  </tbody>\n",
       "</table>\n",
       "</div>"
      ],
      "text/plain": [
       "         user_id    coub_id  user_rating                created_at  week_day\n",
       "778818  10494865  156338544            2 2020-10-22 21:06:43+00:00  Thursday\n",
       "647930  10494203  154142166            2 2020-09-19 09:45:58+00:00  Saturday\n",
       "778660  10493353  156336994            2 2020-10-22 20:49:00+00:00  Thursday\n",
       "764110  10493276  155995340            2 2020-10-17 19:59:53+00:00  Saturday\n",
       "779112  10492551  156341450            2 2020-10-22 21:52:34+00:00  Thursday"
      ]
     },
     "execution_count": 66,
     "metadata": {},
     "output_type": "execute_result"
    }
   ],
   "source": [
    "df = user_history_animals[['user_id','coub_id','user_rating','created_at']].copy()\n",
    "\n",
    "df['week_day'] = df.created_at.dt.day_name()\n",
    "\n",
    "df.head()"
   ]
  },
  {
   "cell_type": "code",
   "execution_count": 67,
   "metadata": {
    "ExecuteTime": {
     "end_time": "2020-10-29T20:03:05.820721Z",
     "start_time": "2020-10-29T20:03:05.813610Z"
    }
   },
   "outputs": [
    {
     "data": {
      "text/plain": [
       "2    140782\n",
       "1     74135\n",
       "5     25372\n",
       "3     13930\n",
       "4     11747\n",
       "Name: user_rating, dtype: int64"
      ]
     },
     "execution_count": 67,
     "metadata": {},
     "output_type": "execute_result"
    }
   ],
   "source": [
    "df.user_rating.value_counts()"
   ]
  },
  {
   "cell_type": "markdown",
   "metadata": {},
   "source": [
    "### Data preparation & EDA"
   ]
  },
  {
   "cell_type": "markdown",
   "metadata": {},
   "source": [
    "Since we have now the rating per movie by the user we can explore a little further the data before proceeding."
   ]
  },
  {
   "cell_type": "code",
   "execution_count": 68,
   "metadata": {
    "ExecuteTime": {
     "end_time": "2020-10-29T20:03:06.029983Z",
     "start_time": "2020-10-29T20:03:05.832979Z"
    }
   },
   "outputs": [],
   "source": [
    "from scipy import sparse\n",
    "\n",
    "from surprise import Reader, Dataset\n",
    "from surprise import BaselineOnly\n",
    "from surprise import KNNBaseline\n",
    "from surprise import SVD\n",
    "from surprise import SVDpp\n",
    "from surprise.model_selection import GridSearchCV\n",
    "from surprise.model_selection import KFold\n",
    "from surprise import accuracy\n",
    "from sklearn.metrics.pairwise import cosine_similarity\n",
    "\n",
    "sns.set_style(\"whitegrid\")\n"
   ]
  },
  {
   "cell_type": "code",
   "execution_count": 69,
   "metadata": {
    "ExecuteTime": {
     "end_time": "2020-10-29T20:03:06.053023Z",
     "start_time": "2020-10-29T20:03:06.031967Z"
    }
   },
   "outputs": [
    {
     "name": "stdout",
     "output_type": "stream",
     "text": [
      "Total Data:\n",
      "Total number of video ratings = 265966\n",
      "Number of unique users = 97827\n",
      "Number of unique videos = 1081\n"
     ]
    }
   ],
   "source": [
    "print(\"Total Data:\")\n",
    "print(\"Total number of video ratings = \"+str(df.shape[0]))\n",
    "print(\"Number of unique users = \"+str(len(np.unique(df[\"user_id\"]))))\n",
    "print(\"Number of unique videos = \"+str(len(np.unique(df[\"coub_id\"]))))"
   ]
  },
  {
   "cell_type": "code",
   "execution_count": 70,
   "metadata": {
    "ExecuteTime": {
     "end_time": "2020-10-29T20:03:06.067483Z",
     "start_time": "2020-10-29T20:03:06.054383Z"
    }
   },
   "outputs": [
    {
     "data": {
      "text/plain": [
       "((212772, 5), (53194, 5))"
      ]
     },
     "execution_count": 70,
     "metadata": {},
     "output_type": "execute_result"
    }
   ],
   "source": [
    "# split the users into train and test subsets:\n",
    "\n",
    "users = pd.Series(df.user_id.unique())\n",
    "\n",
    "\n",
    "tt_split = int(df.shape[0] * 0.8)\n",
    "tt_split\n",
    "\n",
    "train_data = df.iloc[:tt_split].copy()\n",
    "test_data = df.iloc[tt_split:].copy()\n",
    "\n",
    "train_data.shape, test_data.shape"
   ]
  },
  {
   "cell_type": "code",
   "execution_count": 71,
   "metadata": {
    "ExecuteTime": {
     "end_time": "2020-10-29T20:03:06.217223Z",
     "start_time": "2020-10-29T20:03:06.068976Z"
    }
   },
   "outputs": [
    {
     "data": {
      "image/png": "[encoded data removed]",
      "text/plain": [
       "<Figure size 1080x360 with 1 Axes>"
      ]
     },
     "metadata": {},
     "output_type": "display_data"
    }
   ],
   "source": [
    "def changingLabels(number):\n",
    "    return str(number/10**6) + \"M\"\n",
    "\n",
    "fig = plt.figure(figsize=(15,5))\n",
    "\n",
    "ax = sns.countplot(x=\"user_rating\", data=train_data)\n",
    "\n",
    "ax.set_yticklabels([changingLabels(num) for num in ax.get_yticks()])\n",
    "\n",
    "ax.tick_params(labelsize = 15)\n",
    "ax.set_title(\"Distribution of Ratings in train data\", fontsize = 20)\n",
    "ax.set_xlabel(\"Ratings\", fontsize = 20)\n",
    "ax.set_ylabel(\"# of Ratings (Millions)\", fontsize = 20)\n",
    "plt.show()\n"
   ]
  },
  {
   "cell_type": "markdown",
   "metadata": {},
   "source": [
    "As evident, most of the videos got rating of 2, followed by 1, while higher marks are less frequent. "
   ]
  },
  {
   "cell_type": "code",
   "execution_count": 72,
   "metadata": {
    "ExecuteTime": {
     "end_time": "2020-10-29T20:03:06.599096Z",
     "start_time": "2020-10-29T20:03:06.218621Z"
    }
   },
   "outputs": [
    {
     "data": {
      "image/png": "[encoded data removed]",
      "text/plain": [
       "<Figure size 720x360 with 1 Axes>"
      ]
     },
     "metadata": {},
     "output_type": "display_data"
    }
   ],
   "source": [
    "# rankings per months\n",
    "\n",
    "plt.figure(figsize = (10,5))\n",
    "ax = train_data.resample(\"M\", on = \"created_at\")[\"user_rating\"].count().plot()\n",
    "\n",
    "ax.set_yticklabels([changingLabels(num) for num in ax.get_yticks()])\n",
    "ax.set_title(\"# of Ratings per month\", fontsize = 20)\n",
    "ax.set_xlabel(\"Date\", fontsize = 20)\n",
    "ax.set_ylabel(\"# of Ratings Per Month(Millions)\", fontsize = 20)\n",
    "plt.tick_params(labelsize = 15)\n",
    "plt.show()\n",
    "\n"
   ]
  },
  {
   "cell_type": "markdown",
   "metadata": {},
   "source": [
    "This graph repeats the earlier distribution of produced and watched videos in the category **Animals-Pets**."
   ]
  },
  {
   "cell_type": "code",
   "execution_count": 73,
   "metadata": {
    "ExecuteTime": {
     "end_time": "2020-10-29T20:03:06.608594Z",
     "start_time": "2020-10-29T20:03:06.600525Z"
    }
   },
   "outputs": [],
   "source": [
    "# Ratings Per video\n",
    "\n",
    "ratings_per_movie = train_data.groupby(by = 'coub_id')['user_id'].count().sort_values(ascending = False)\n"
   ]
  },
  {
   "cell_type": "code",
   "execution_count": 74,
   "metadata": {
    "ExecuteTime": {
     "end_time": "2020-10-29T20:03:06.779278Z",
     "start_time": "2020-10-29T20:03:06.610022Z"
    }
   },
   "outputs": [
    {
     "data": {
      "image/png": "[encoded data removed]",
      "text/plain": [
       "<Figure size 864x288 with 1 Axes>"
      ]
     },
     "metadata": {},
     "output_type": "display_data"
    }
   ],
   "source": [
    "fig = plt.figure(figsize = (12, 4))\n",
    "axes = fig.add_axes([0.1,0.1,1,1])\n",
    "plt.title(\"Number of Ratings Per Video\", fontsize = 20)\n",
    "plt.xlabel(\"Video\", fontsize = 20)\n",
    "plt.ylabel(\"Count of Ratings\", fontsize = 20)\n",
    "plt.plot(ratings_per_movie.values)\n",
    "plt.tick_params(labelsize = 15)\n",
    "axes.set_xticklabels([])\n",
    "plt.show()"
   ]
  },
  {
   "cell_type": "markdown",
   "metadata": {},
   "source": [
    "**It is very skewed**\n",
    "\n",
    "It clearly shows that there are some movies which are very popular and were rated by many users as comapared to other movies"
   ]
  },
  {
   "cell_type": "code",
   "execution_count": 75,
   "metadata": {
    "ExecuteTime": {
     "end_time": "2020-10-29T20:03:06.994546Z",
     "start_time": "2020-10-29T20:03:06.781164Z"
    }
   },
   "outputs": [
    {
     "data": {
      "image/png": "[encoded data removed]",
      "text/plain": [
       "<Figure size 864x576 with 1 Axes>"
      ]
     },
     "metadata": {},
     "output_type": "display_data"
    }
   ],
   "source": [
    "# Video Ratings on Day of Week\n",
    "\n",
    "fig = plt.figure(figsize = (12, 8))\n",
    "\n",
    "axes = sns.countplot(x = \"week_day\", data = train_data)\n",
    "axes.set_title(\"Day of week VS Number of Ratings\", fontsize = 20)\n",
    "axes.set_xlabel(\"Day of Week\", fontsize = 20)\n",
    "axes.set_ylabel(\"Number of Ratings\", fontsize = 20)\n",
    "axes.set_yticklabels([changingLabels(num) for num in ax.get_yticks()])\n",
    "axes.tick_params(labelsize = 15)\n",
    "\n",
    "plt.show()"
   ]
  },
  {
   "cell_type": "markdown",
   "metadata": {},
   "source": [
    "Mostly balanced distribution over the week with Wednesday and Sunday being more popular days for watching and ratings."
   ]
  },
  {
   "cell_type": "code",
   "execution_count": 76,
   "metadata": {
    "ExecuteTime": {
     "end_time": "2020-10-29T20:03:07.018457Z",
     "start_time": "2020-10-29T20:03:06.996184Z"
    }
   },
   "outputs": [
    {
     "name": "stdout",
     "output_type": "stream",
     "text": [
      "Average Ratings on Day of Weeks\n",
      "week_day\n",
      "Friday       2.270214\n",
      "Monday       2.475511\n",
      "Saturday     2.108747\n",
      "Sunday       1.856840\n",
      "Thursday     2.202225\n",
      "Tuesday      1.782279\n",
      "Wednesday    2.238662\n",
      "Name: user_rating, dtype: float64\n"
     ]
    }
   ],
   "source": [
    "average_ratings_dayofweek = df.groupby(by = \"week_day\")[\"user_rating\"].mean()\n",
    "print(\"Average Ratings on Day of Weeks\")\n",
    "print(average_ratings_dayofweek)"
   ]
  },
  {
   "cell_type": "markdown",
   "metadata": {},
   "source": [
    "Despite all, Monday, Saturday and Friday are most generous for giving ratings as good as they can be. :)"
   ]
  },
  {
   "cell_type": "markdown",
   "metadata": {},
   "source": [
    "### Building the model\n"
   ]
  },
  {
   "cell_type": "markdown",
   "metadata": {},
   "source": [
    "While taking user preferences and ratings into consideration dynamically, the classical Collaborative Filtering has some issues. First, the main issue is scalability. The computation grows with both the users and the videos. The worst case complexity is O(mn) with m users and n items. In addition, sparsity is another concern.\n",
    "\n",
    "One way to handle the scalability and sparsity issue created by collaborative filtering is to leverage a latent factor model to capture the similarity between users and items. Essentially, we want to turn the recommendation problem into an optimization problem. We can view it as how good we are in predicting the rating for items given a user. One common metric is Root Mean Square Error (RMSE). The lower the RMSE, the better the performance."
   ]
  },
  {
   "cell_type": "code",
   "execution_count": 77,
   "metadata": {
    "ExecuteTime": {
     "end_time": "2020-10-29T20:03:07.028176Z",
     "start_time": "2020-10-29T20:03:07.019857Z"
    }
   },
   "outputs": [
    {
     "data": {
      "text/html": [
       "<div>\n",
       "<style scoped>\n",
       "    .dataframe tbody tr th:only-of-type {\n",
       "        vertical-align: middle;\n",
       "    }\n",
       "\n",
       "    .dataframe tbody tr th {\n",
       "        vertical-align: top;\n",
       "    }\n",
       "\n",
       "    .dataframe thead th {\n",
       "        text-align: right;\n",
       "    }\n",
       "</style>\n",
       "<table border=\"1\" class=\"dataframe\">\n",
       "  <thead>\n",
       "    <tr style=\"text-align: right;\">\n",
       "      <th></th>\n",
       "      <th>user_id</th>\n",
       "      <th>coub_id</th>\n",
       "      <th>user_rating</th>\n",
       "      <th>created_at</th>\n",
       "      <th>week_day</th>\n",
       "    </tr>\n",
       "  </thead>\n",
       "  <tbody>\n",
       "    <tr>\n",
       "      <th>778818</th>\n",
       "      <td>10494865</td>\n",
       "      <td>156338544</td>\n",
       "      <td>2</td>\n",
       "      <td>2020-10-22 21:06:43+00:00</td>\n",
       "      <td>Thursday</td>\n",
       "    </tr>\n",
       "    <tr>\n",
       "      <th>647930</th>\n",
       "      <td>10494203</td>\n",
       "      <td>154142166</td>\n",
       "      <td>2</td>\n",
       "      <td>2020-09-19 09:45:58+00:00</td>\n",
       "      <td>Saturday</td>\n",
       "    </tr>\n",
       "    <tr>\n",
       "      <th>778660</th>\n",
       "      <td>10493353</td>\n",
       "      <td>156336994</td>\n",
       "      <td>2</td>\n",
       "      <td>2020-10-22 20:49:00+00:00</td>\n",
       "      <td>Thursday</td>\n",
       "    </tr>\n",
       "    <tr>\n",
       "      <th>764110</th>\n",
       "      <td>10493276</td>\n",
       "      <td>155995340</td>\n",
       "      <td>2</td>\n",
       "      <td>2020-10-17 19:59:53+00:00</td>\n",
       "      <td>Saturday</td>\n",
       "    </tr>\n",
       "    <tr>\n",
       "      <th>779112</th>\n",
       "      <td>10492551</td>\n",
       "      <td>156341450</td>\n",
       "      <td>2</td>\n",
       "      <td>2020-10-22 21:52:34+00:00</td>\n",
       "      <td>Thursday</td>\n",
       "    </tr>\n",
       "  </tbody>\n",
       "</table>\n",
       "</div>"
      ],
      "text/plain": [
       "         user_id    coub_id  user_rating                created_at  week_day\n",
       "778818  10494865  156338544            2 2020-10-22 21:06:43+00:00  Thursday\n",
       "647930  10494203  154142166            2 2020-09-19 09:45:58+00:00  Saturday\n",
       "778660  10493353  156336994            2 2020-10-22 20:49:00+00:00  Thursday\n",
       "764110  10493276  155995340            2 2020-10-17 19:59:53+00:00  Saturday\n",
       "779112  10492551  156341450            2 2020-10-22 21:52:34+00:00  Thursday"
      ]
     },
     "execution_count": 77,
     "metadata": {},
     "output_type": "execute_result"
    }
   ],
   "source": [
    "df.head()"
   ]
  },
  {
   "cell_type": "code",
   "execution_count": 78,
   "metadata": {
    "ExecuteTime": {
     "end_time": "2020-10-29T20:04:13.540991Z",
     "start_time": "2020-10-29T20:03:07.029999Z"
    }
   },
   "outputs": [
    {
     "name": "stdout",
     "output_type": "stream",
     "text": [
      "Fold 0:\n",
      "RMSE: 0.1348\n",
      "MAE:  0.0636\n",
      "---\n",
      "\n",
      "Fold 1:\n",
      "RMSE: 0.1359\n",
      "MAE:  0.0640\n",
      "---\n",
      "\n",
      "Fold 2:\n",
      "RMSE: 0.1330\n",
      "MAE:  0.0631\n",
      "---\n",
      "\n",
      "Fold 3:\n",
      "RMSE: 0.1339\n",
      "MAE:  0.0631\n",
      "---\n",
      "\n",
      "Fold 4:\n",
      "RMSE: 0.1319\n",
      "MAE:  0.0627\n",
      "---\n",
      "\n"
     ]
    }
   ],
   "source": [
    "def train_algo(input_algo, df, n_splits=5):\n",
    "    \"\"\"\n",
    "    Fits the prediction algorithm from the surprise library and returns it\n",
    "    Arguments:\n",
    "        :input_algo - surprise algorithm to fit\n",
    "        :df - input df\n",
    "        :n_splits - number of folds for cross validation training. Default 5.\n",
    "    \"\"\"\n",
    "    \n",
    "    reader = Reader()\n",
    "\n",
    "    data = Dataset.load_from_df(df[['user_id', 'coub_id', 'user_rating']], reader)\n",
    "\n",
    "\n",
    "    # define a cross-validation iterator\n",
    "    kf = KFold(n_splits=n_splits)\n",
    "\n",
    "    algo = input_algo()\n",
    "\n",
    "    for fold, (trainset, testset) in enumerate(kf.split(data)):\n",
    "\n",
    "        # train and test algorithm.\n",
    "        algo.fit(trainset)\n",
    "        predictions = algo.test(testset)\n",
    "\n",
    "        # Compute and print Root Mean Squared Error, MAE\n",
    "        print(f'Fold {fold}:')\n",
    "        accuracy.rmse(predictions, verbose=True)\n",
    "        accuracy.mae(predictions, verbose=True)\n",
    "        print('---\\n')\n",
    "        \n",
    "    return algo\n",
    "\n",
    "\n",
    "algo = train_algo(input_algo=SVD, df=df, n_splits=5)"
   ]
  },
  {
   "cell_type": "code",
   "execution_count": 79,
   "metadata": {
    "ExecuteTime": {
     "end_time": "2020-10-29T20:04:13.576699Z",
     "start_time": "2020-10-29T20:04:13.542647Z"
    },
    "scrolled": true
   },
   "outputs": [
    {
     "data": {
      "text/html": [
       "<div>\n",
       "<style scoped>\n",
       "    .dataframe tbody tr th:only-of-type {\n",
       "        vertical-align: middle;\n",
       "    }\n",
       "\n",
       "    .dataframe tbody tr th {\n",
       "        vertical-align: top;\n",
       "    }\n",
       "\n",
       "    .dataframe thead th {\n",
       "        text-align: right;\n",
       "    }\n",
       "</style>\n",
       "<table border=\"1\" class=\"dataframe\">\n",
       "  <thead>\n",
       "    <tr style=\"text-align: right;\">\n",
       "      <th></th>\n",
       "      <th>user_id</th>\n",
       "      <th>coub_id</th>\n",
       "      <th>user_rating</th>\n",
       "      <th>created_at</th>\n",
       "      <th>week_day</th>\n",
       "    </tr>\n",
       "  </thead>\n",
       "  <tbody>\n",
       "    <tr>\n",
       "      <th>271107</th>\n",
       "      <td>24</td>\n",
       "      <td>150963186</td>\n",
       "      <td>5</td>\n",
       "      <td>2020-08-03 12:45:55+00:00</td>\n",
       "      <td>Monday</td>\n",
       "    </tr>\n",
       "    <tr>\n",
       "      <th>550709</th>\n",
       "      <td>24</td>\n",
       "      <td>153226480</td>\n",
       "      <td>3</td>\n",
       "      <td>2020-09-05 12:17:48+00:00</td>\n",
       "      <td>Saturday</td>\n",
       "    </tr>\n",
       "    <tr>\n",
       "      <th>347766</th>\n",
       "      <td>46</td>\n",
       "      <td>151371455</td>\n",
       "      <td>4</td>\n",
       "      <td>2020-08-09 09:13:46+00:00</td>\n",
       "      <td>Sunday</td>\n",
       "    </tr>\n",
       "    <tr>\n",
       "      <th>472999</th>\n",
       "      <td>305</td>\n",
       "      <td>152635390</td>\n",
       "      <td>2</td>\n",
       "      <td>2020-08-27 14:32:39+00:00</td>\n",
       "      <td>Thursday</td>\n",
       "    </tr>\n",
       "    <tr>\n",
       "      <th>535513</th>\n",
       "      <td>710</td>\n",
       "      <td>153138733</td>\n",
       "      <td>5</td>\n",
       "      <td>2020-09-04 04:15:20+00:00</td>\n",
       "      <td>Friday</td>\n",
       "    </tr>\n",
       "    <tr>\n",
       "      <th>472147</th>\n",
       "      <td>764</td>\n",
       "      <td>152635390</td>\n",
       "      <td>2</td>\n",
       "      <td>2020-08-27 14:32:39+00:00</td>\n",
       "      <td>Thursday</td>\n",
       "    </tr>\n",
       "    <tr>\n",
       "      <th>696332</th>\n",
       "      <td>823</td>\n",
       "      <td>154840511</td>\n",
       "      <td>2</td>\n",
       "      <td>2020-09-29 23:12:10+00:00</td>\n",
       "      <td>Tuesday</td>\n",
       "    </tr>\n",
       "    <tr>\n",
       "      <th>549764</th>\n",
       "      <td>823</td>\n",
       "      <td>153226480</td>\n",
       "      <td>3</td>\n",
       "      <td>2020-09-05 12:17:48+00:00</td>\n",
       "      <td>Saturday</td>\n",
       "    </tr>\n",
       "    <tr>\n",
       "      <th>702156</th>\n",
       "      <td>823</td>\n",
       "      <td>154883938</td>\n",
       "      <td>2</td>\n",
       "      <td>2020-09-30 18:10:46+00:00</td>\n",
       "      <td>Wednesday</td>\n",
       "    </tr>\n",
       "    <tr>\n",
       "      <th>525670</th>\n",
       "      <td>823</td>\n",
       "      <td>153006731</td>\n",
       "      <td>1</td>\n",
       "      <td>2020-09-02 00:55:10+00:00</td>\n",
       "      <td>Wednesday</td>\n",
       "    </tr>\n",
       "  </tbody>\n",
       "</table>\n",
       "</div>"
      ],
      "text/plain": [
       "        user_id    coub_id  user_rating                created_at   week_day\n",
       "271107       24  150963186            5 2020-08-03 12:45:55+00:00     Monday\n",
       "550709       24  153226480            3 2020-09-05 12:17:48+00:00   Saturday\n",
       "347766       46  151371455            4 2020-08-09 09:13:46+00:00     Sunday\n",
       "472999      305  152635390            2 2020-08-27 14:32:39+00:00   Thursday\n",
       "535513      710  153138733            5 2020-09-04 04:15:20+00:00     Friday\n",
       "472147      764  152635390            2 2020-08-27 14:32:39+00:00   Thursday\n",
       "696332      823  154840511            2 2020-09-29 23:12:10+00:00    Tuesday\n",
       "549764      823  153226480            3 2020-09-05 12:17:48+00:00   Saturday\n",
       "702156      823  154883938            2 2020-09-30 18:10:46+00:00  Wednesday\n",
       "525670      823  153006731            1 2020-09-02 00:55:10+00:00  Wednesday"
      ]
     },
     "execution_count": 79,
     "metadata": {},
     "output_type": "execute_result"
    }
   ],
   "source": [
    "df.sort_values(by='user_id').head(10)"
   ]
  },
  {
   "cell_type": "code",
   "execution_count": 80,
   "metadata": {
    "ExecuteTime": {
     "end_time": "2020-10-29T20:04:13.603174Z",
     "start_time": "2020-10-29T20:04:13.578791Z"
    }
   },
   "outputs": [
    {
     "data": {
      "text/html": [
       "<div>\n",
       "<style scoped>\n",
       "    .dataframe tbody tr th:only-of-type {\n",
       "        vertical-align: middle;\n",
       "    }\n",
       "\n",
       "    .dataframe tbody tr th {\n",
       "        vertical-align: top;\n",
       "    }\n",
       "\n",
       "    .dataframe thead th {\n",
       "        text-align: right;\n",
       "    }\n",
       "</style>\n",
       "<table border=\"1\" class=\"dataframe\">\n",
       "  <thead>\n",
       "    <tr style=\"text-align: right;\">\n",
       "      <th></th>\n",
       "      <th>coub_id</th>\n",
       "      <th>user_rating</th>\n",
       "    </tr>\n",
       "  </thead>\n",
       "  <tbody>\n",
       "    <tr>\n",
       "      <th>23</th>\n",
       "      <td>151165731</td>\n",
       "      <td>4.951978</td>\n",
       "    </tr>\n",
       "    <tr>\n",
       "      <th>314</th>\n",
       "      <td>151279909</td>\n",
       "      <td>4.950340</td>\n",
       "    </tr>\n",
       "    <tr>\n",
       "      <th>110</th>\n",
       "      <td>151869218</td>\n",
       "      <td>4.950120</td>\n",
       "    </tr>\n",
       "    <tr>\n",
       "      <th>22</th>\n",
       "      <td>152150089</td>\n",
       "      <td>4.949580</td>\n",
       "    </tr>\n",
       "    <tr>\n",
       "      <th>30</th>\n",
       "      <td>150990021</td>\n",
       "      <td>4.946805</td>\n",
       "    </tr>\n",
       "  </tbody>\n",
       "</table>\n",
       "</div>"
      ],
      "text/plain": [
       "       coub_id  user_rating\n",
       "23   151165731     4.951978\n",
       "314  151279909     4.950340\n",
       "110  151869218     4.950120\n",
       "22   152150089     4.949580\n",
       "30   150990021     4.946805"
      ]
     },
     "execution_count": 80,
     "metadata": {},
     "output_type": "execute_result"
    }
   ],
   "source": [
    "def recommend_videos(user_id, algo, top=5):\n",
    "    \"\"\"\n",
    "    Returns TOP-N recommendations for the input user.\n",
    "    Arguments:\n",
    "        :user_id - user ID\n",
    "        :algo - input surprise algorithm \n",
    "        :top - top N recommendations. Degault 5.\n",
    "    \"\"\"\n",
    "    \n",
    "    res = []\n",
    "\n",
    "    for video in df.coub_id.unique():\n",
    "        res.append((video,algo.predict(user_id,video).est))\n",
    "\n",
    "    res = pd.DataFrame(res,columns=['coub_id','user_rating']).sort_values(by='user_rating',ascending=False).head(top)\n",
    "    \n",
    "    return res\n",
    "\n",
    "\n",
    "res = recommend_videos(user_id=710, algo=algo, top=5)\n",
    "res"
   ]
  },
  {
   "cell_type": "code",
   "execution_count": 81,
   "metadata": {
    "ExecuteTime": {
     "end_time": "2020-10-29T20:04:13.608940Z",
     "start_time": "2020-10-29T20:04:13.605010Z"
    }
   },
   "outputs": [
    {
     "data": {
      "text/plain": [
       "Index(['coub_id', 'user_id', 'user_name', 'user_followers_count',\n",
       "       'user_following_count', 'reaction_type', 'title', 'created_at',\n",
       "       'duration', 'tags', 'views_count', 'recoubs_count', 'likes_count',\n",
       "       'dislikes_count', 'category_title', 'url_big', 'fixed_tags',\n",
       "       'recoubs_count_cat', 'likes_count_cat', 'dislikes_count_cat',\n",
       "       'created_at_date', 'R', 'WR', 'user_rating'],\n",
       "      dtype='object')"
      ]
     },
     "execution_count": 81,
     "metadata": {},
     "output_type": "execute_result"
    }
   ],
   "source": [
    "user_history_animals.columns"
   ]
  },
  {
   "cell_type": "code",
   "execution_count": 82,
   "metadata": {
    "ExecuteTime": {
     "end_time": "2020-10-29T20:04:13.622930Z",
     "start_time": "2020-10-29T20:04:13.610545Z"
    }
   },
   "outputs": [
    {
     "data": {
      "text/html": [
       "<div>\n",
       "<style scoped>\n",
       "    .dataframe tbody tr th:only-of-type {\n",
       "        vertical-align: middle;\n",
       "    }\n",
       "\n",
       "    .dataframe tbody tr th {\n",
       "        vertical-align: top;\n",
       "    }\n",
       "\n",
       "    .dataframe thead th {\n",
       "        text-align: right;\n",
       "    }\n",
       "</style>\n",
       "<table border=\"1\" class=\"dataframe\">\n",
       "  <thead>\n",
       "    <tr style=\"text-align: right;\">\n",
       "      <th></th>\n",
       "      <th>coub_id</th>\n",
       "      <th>user_rating</th>\n",
       "      <th>id</th>\n",
       "      <th>channel_id</th>\n",
       "      <th>title</th>\n",
       "      <th>url_big</th>\n",
       "    </tr>\n",
       "  </thead>\n",
       "  <tbody>\n",
       "    <tr>\n",
       "      <th>0</th>\n",
       "      <td>151165731</td>\n",
       "      <td>4.951978</td>\n",
       "      <td>151165731</td>\n",
       "      <td>5609501</td>\n",
       "      <td>Rise shine</td>\n",
       "      <td>https://coubsecure-s.akamaihd.net/get/b4/p/cou...</td>\n",
       "    </tr>\n",
       "    <tr>\n",
       "      <th>1</th>\n",
       "      <td>151279909</td>\n",
       "      <td>4.950340</td>\n",
       "      <td>151279909</td>\n",
       "      <td>4780039</td>\n",
       "      <td>пушистые бицухи</td>\n",
       "      <td>https://coubsecure-s.akamaihd.net/get/b45/p/co...</td>\n",
       "    </tr>\n",
       "    <tr>\n",
       "      <th>2</th>\n",
       "      <td>151869218</td>\n",
       "      <td>4.950120</td>\n",
       "      <td>151869218</td>\n",
       "      <td>5336785</td>\n",
       "      <td>Sweet homes</td>\n",
       "      <td>https://coubsecure-s.akamaihd.net/get/b117/p/c...</td>\n",
       "    </tr>\n",
       "    <tr>\n",
       "      <th>3</th>\n",
       "      <td>152150089</td>\n",
       "      <td>4.949580</td>\n",
       "      <td>152150089</td>\n",
       "      <td>3097950</td>\n",
       "      <td>Suddenly puss owners twitter TO87236445</td>\n",
       "      <td>https://coubsecure-s.akamaihd.net/get/b146/p/c...</td>\n",
       "    </tr>\n",
       "    <tr>\n",
       "      <th>4</th>\n",
       "      <td>150990021</td>\n",
       "      <td>4.946805</td>\n",
       "      <td>150990021</td>\n",
       "      <td>7185721</td>\n",
       "      <td>My nugget my nugget</td>\n",
       "      <td>https://coubsecure-s.akamaihd.net/get/b156/p/c...</td>\n",
       "    </tr>\n",
       "  </tbody>\n",
       "</table>\n",
       "</div>"
      ],
      "text/plain": [
       "     coub_id  user_rating         id  channel_id  \\\n",
       "0  151165731     4.951978  151165731     5609501   \n",
       "1  151279909     4.950340  151279909     4780039   \n",
       "2  151869218     4.950120  151869218     5336785   \n",
       "3  152150089     4.949580  152150089     3097950   \n",
       "4  150990021     4.946805  150990021     7185721   \n",
       "\n",
       "                                     title  \\\n",
       "0                               Rise shine   \n",
       "1                          пушистые бицухи   \n",
       "2                              Sweet homes   \n",
       "3  Suddenly puss owners twitter TO87236445   \n",
       "4                      My nugget my nugget   \n",
       "\n",
       "                                             url_big  \n",
       "0  https://coubsecure-s.akamaihd.net/get/b4/p/cou...  \n",
       "1  https://coubsecure-s.akamaihd.net/get/b45/p/co...  \n",
       "2  https://coubsecure-s.akamaihd.net/get/b117/p/c...  \n",
       "3  https://coubsecure-s.akamaihd.net/get/b146/p/c...  \n",
       "4  https://coubsecure-s.akamaihd.net/get/b156/p/c...  "
      ]
     },
     "execution_count": 82,
     "metadata": {},
     "output_type": "execute_result"
    }
   ],
   "source": [
    "cols = ['id', 'channel_id', 'title', 'url_big']\n",
    "res = res.merge(category_data[cols], how='inner', left_on='coub_id', right_on='id')\n",
    "res"
   ]
  },
  {
   "cell_type": "markdown",
   "metadata": {},
   "source": [
    "### Subsection results"
   ]
  },
  {
   "cell_type": "markdown",
   "metadata": {},
   "source": [
    "While switching to the user based rating system I used dimension reduction algorythm and considered the recommendation problem as a regression problem minimizing the RMSE and MAE error. This approach has its advantages, since if some videos got rated high enough, most likely this user  will rate them well too. Plus it's fast enough. Yet the disadvantage of this approach is the limited input data, essentially just the matrix of users and items with respect to their ratings. In the conclusions section I'll share some more ideas how and what could be done to improve initial results.\n"
   ]
  },
  {
   "cell_type": "markdown",
   "metadata": {},
   "source": [
    "# Conclusions"
   ]
  },
  {
   "cell_type": "markdown",
   "metadata": {},
   "source": [
    "---\n",
    "The purpose of this research notebook has been to demonstrate and try out the different approaches of the SOTA in the realm of the Recommender Systems. Given the nature of the data from *coub* I was able to achieve good results with the hybrid content-based approach, which would include the previous preferences of the given user. Once done I also provided the baseline collaborative filtering model that relies upon SVD with also pretty good results.\n",
    "\n",
    "While researching the topic I encountered a more advanced approach, for which half of the job has been implemented in the initial version of this notebook, but had to be removed due to much time (over a day for some step and 18 hours for another) for needed to process and train the regressor. I'll briefly enlist now the steps it entailed:\n",
    "\n",
    "- Once we have the user rating, create user-item matrix and similraty matrices: user-user, and item-item matrices.\n",
    "- Instead of taking just the rating column advance it and prepare the following features: prepare Global Average of all video ratings, Average rating per User, and Average rating per Video, ratings for the given video by five similar users, ratings of five similar videos to the given one.\n",
    "- Build different regressors on these data, compare and select best model.\n",
    "\n",
    "This approach is described in the following resource: \n",
    "\n",
    "**How to Build a Recommender System(RS)**: \n",
    "\n",
    "https://medium.com/datadriveninvestor/how-to-built-a-recommender-system-rs-616c988d64b2\n",
    "\n",
    "---\n",
    "\n",
    "Also, while implementing by me specified approaches, I now realize that approaches provided by me in this solution, merely provide the background for something more advanced, some much more sophisticated approach that truly goes into depth of the conent analysis and building similarity matrix based on feature maps exctrated directly from audio and video channels of the coubs. It would require paramaunt computing capabilities, but could potentially build a much more detailed profile of the user, his preferences and the profile of the videos themselves.\n",
    "\n",
    "If I think about it, about how I would approach this challenge, the following steps come to my mind:\n",
    "\n",
    "**Simplified approach - extract key frames from video sequence**\n",
    "1. Switch from sequence data, which any video is, to a feature map representation of the video. \n",
    "2. To do this, select certain number of key frames per video. Convolve them, use 1D convolutions to reduce the output dimensions. \n",
    "3. For any coub compare each frame vector with vectors from all other coubs, select top similar videos by IoU.\n",
    "\n",
    "The disadvantage of this approach would be the lack of context in each video, since the algorithm would compare merely the similarity of what it sees.\n",
    "\n",
    "Thus:\n",
    "\n",
    "**More advanced approach - handle video sequence**\n",
    "1. Extract feature maps for the video sequence of specified length, process audio and video channhels separately. For audio you can look for videos with audio of similar MELS or magnitude. For video you can try video image captioning to extract text representation of each video. Add it to content based model.\n",
    "\n",
    "2. Think of how you can combine the results of each channel. Add this info to coub ids. \n",
    "\n",
    "Audio processing and recommendation based on audio:\n",
    "\n",
    "1. **Deep Learning in Music Recommendation Systems**\n",
    "https://www.frontiersin.org/articles/10.3389/fams.2019.00044/full\n",
    "\n",
    "2. **I Decoded the Spotify Recommendation Algorithm. Here’s What I Found.**\n",
    "https://medium.com/@ericboam/i-decoded-the-spotify-recommendation-algorithm-heres-what-i-found-4b0f3654035b\n",
    "\n",
    "3. **Content-Based Music Recommender Systems:Beyond simple Frame-Level Audio Similarity**\n",
    "http://www.cp.jku.at/people/seyerlehner/supervised/seyerlehner_phd.pdf\n",
    "\n",
    "4. **Music Recommender System Based on Genre using Convolutional Recurrent Neural Networks**\n",
    "https://www.sciencedirect.com/science/article/pii/S1877050919310646\n",
    "\n",
    "5. **NeuralTalk for video image captioning**\n",
    "https://medium.com/@samim/generating-captions-c31f00e8396e\n",
    "\n",
    "6. **Dense Video Captioning Using Pytorch**\n",
    "https://towardsdatascience.com/dense-video-captioning-using-pytorch-392ca0d6971a\n",
    "\n",
    "\n",
    "---\n",
    "\n",
    "\n",
    "Unfortunately, we don't have internal statistics on coubs - like how often they're being watched, how long (taking into consideration it's a looped video and with right audio you may want to listen to it long enough), more details on user profile like location, gender, age, etc. \n",
    "\n",
    "But you have an app with own video gallery, like Reface does, a lot of this data could be obtained. Which templates are being popular, how long are being watched, whether or not selected for refacing etc. Based on these preferences and applying one of the more advanced approaches above you could substantially enrich the potential database of templates and thus bring more variety into the app. \n",
    "\n",
    "Recommender system could be applied to the reface template and user base as well, to suggest increasingly better / personalized templates based on his or her preferences, content similarity and its allignment to the picture of the person. \n",
    "\n",
    "A fascinating source of data could also be a video emotion recognition. It seems to have been gaining popularity:\n",
    "1. **Audio-video Emotion Recognition in the Wild using Deep Hybrid Networks**\n",
    "https://arxiv.org/pdf/2002.09023v1.pdf\n",
    "\n",
    "2. **Video-based emotion recognition in the wild using deep transfer learning and score fusion**\n",
    "https://www.sciencedirect.com/science/article/abs/pii/S0262885617300367\n",
    "\n",
    "\n",
    "If frontal camera use is permitted to observe users while using the app, an additional whole lot of information layer could become available. \n",
    "\n",
    "\n",
    "These all tasks I would definitely love to try my hand on. I realize that there might be some major pitfalls in realizing ideas specified by me in this afterwords section, and some theoretical gaps might be present, given the starting point of not being an expert in video processing etc., but filling these gaps and making it happen could put the whole enterprise of recommending to a whole new level, on pair with Netflix or Youtube, which is an ambitious goal, yet realisable I belive.  "
   ]
  },
  {
   "cell_type": "code",
   "execution_count": null,
   "metadata": {},
   "outputs": [],
   "source": []
  }
 ],
 "metadata": {
  "kernelspec": {
   "display_name": "open-mmlab",
   "language": "python",
   "name": "open-mmlab"
  },
  "language_info": {
   "codemirror_mode": {
    "name": "ipython",
    "version": 3
   },
   "file_extension": ".py",
   "mimetype": "text/x-python",
   "name": "python",
   "nbconvert_exporter": "python",
   "pygments_lexer": "ipython3",
   "version": "3.7.7"
  },
  "toc": {
   "base_numbering": 1,
   "nav_menu": {},
   "number_sections": true,
   "sideBar": true,
   "skip_h1_title": false,
   "title_cell": "Table of Contents",
   "title_sidebar": "Contents",
   "toc_cell": false,
   "toc_position": {},
   "toc_section_display": true,
   "toc_window_display": true
  }
 },
 "nbformat": 4,
 "nbformat_minor": 4
}
